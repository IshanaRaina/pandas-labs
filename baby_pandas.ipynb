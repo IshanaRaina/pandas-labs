{
 "cells": [
  {
   "cell_type": "markdown",
   "metadata": {},
   "source": [
    "# Baby Pandas\n",
    "\n",
    "## About\n",
    "[Pandas](https://pandas.pydata.org/) is an extremely powerful open-source Python library that provides data structures and data analysis tools and is built on top of NumPy. If you are accessing, manipulating and analysing data with Python, there is no escaping the Pandas library!\n",
    "\n",
    "This course is the first in a 3-part series on Pandas, aptly named:\n",
    "- Baby Pandas\n",
    "- Teenage Pandas\n",
    "- Adult Pandas\n",
    "\n",
    "## Getting Started\n",
    "\n",
    "### Imports\n",
    "Even though Pandas has been installed on your machine, you need to `import` it into your working environment so that you can use its features and functionalities in your project. This is usually why data analytics projects start with all the required import statements. So that all the project dependencies are stated upfront and taken care of beforehand. \n",
    "\n",
    "#### 1. Pandas\n",
    "Even though you are free to choose any alias (that doesn't conflict with Python's keywords), it is common practice to import pandas as `pd`. \n",
    "\n",
    "#### 2. Matplotlib\n",
    "\n",
    "Pandas uses [Matplotlib](https://matplotlib.org/), which you're already familiar with, to render its plots and graphs.\n",
    "\n",
    "A very interesting feature to note is `%matplotlib inline`.\n",
    "\n",
    "The Interactive Python (IPython) kernel such as the one we're using here has the ability to display plots which are the output from running code cells. `%matplotlib` is that magic command which sets up the seamless connection between IPython and Matplotlib to make that possible. \n",
    "- Without any arguments passed to it, the plots and graphs are rendered using the default backend - in a separate window. \n",
    "- Passing `inline` as an argument changes the backend so that graphs are rendered inline, directly under the code cell that runs the command! You'll see what I mean as we go along the project but it's one of the features that'll get you hooked onto Jupyter notebooks, especially for prototyping your code."
   ]
  },
  {
   "cell_type": "code",
   "execution_count": 1,
   "metadata": {},
   "outputs": [],
   "source": [
    "import pandas as pd\n",
    "import matplotlib.pyplot as plt\n",
    "%matplotlib inline"
   ]
  },
  {
   "cell_type": "markdown",
   "metadata": {},
   "source": [
    "### What's in a DataFrame?\n",
    "Let's think about a real-world example such as data that a company possesses about its customers. That information has to be stored somewhere so what do you think that data structure looks like? What features might the data structure contain?\n",
    "\n",
    "> - I'm sure the information (whether stored in a relational table or Excel spreadsheet) has a **name.**\n",
    "> - There must be **columns** containing different identifiers such as _id_, _name_, _age_, _address_, _phone_, _email_ and *join_date* to name a few.\n",
    "> - There must be **rows** (one per unique customer.)\n",
    "\n",
    "The next logical question to ask would be: What is a programmatic way to store such data?\n",
    "> Fortunately, Pandas developers have already answered that question for us! It's a [DataFrame](https://pandas.pydata.org/pandas-docs/stable/reference/api/pandas.DataFrame.html)!\n",
    "\n",
    "DataFrame is a data structure which allows for data to be stored in a tabular format with columns containing different identifying information and rows containing observations. \n",
    "\n",
    "Knowing this, yet another question might pop into your head: 2D Numpy arrays store data in a tabular format too so what's the difference between them and why should you care for a DataFrame? \n",
    "\n",
    "> Let's answer that next.\n",
    "\n",
    "Pandas DataFrame | 2D Numpy Array\n",
    "--- | ---\n",
    "Heterogenous elements | Homogenous elements\n",
    "Indexed using integers as well as strings (called row labels) | Indexed only using integers\n",
    "\n",
    "It's the abiliy of a DataFrame to store heterogenous elements (a mix of numbers, strings, dates, boolean values etc.) that makes it representative of real-world data and therefore so widely used! \n",
    "\n",
    "### Load data into a DataFrame\n",
    "\n",
    "We've got to talk about one last thing before we can see Pandas in action! On one hand, we have our data 'Cans of Beer Sold.csv' and on the other hand, there's a DataFrame waiting to be used... so how do we connect the dots?\n",
    "\n",
    "> Using Pandas `read_csv()` method.\n",
    "\n",
    "As the name suggests, this method reads data present in a CSV file into a DataFrame. Read more about the method [here](https://pandas.pydata.org/pandas-docs/stable/reference/api/pandas.read_csv.html).\n",
    "\n",
    "**Note:** We have to use the Pandas alias `pd` that was assigned at the time of import to tell the interpreter that we are trying to access the `read_csv()` method from the Pandas library. This is done to avoid confusion between 2 methods with the same name that might belong to different libraries. "
   ]
  },
  {
   "cell_type": "code",
   "execution_count": 2,
   "metadata": {},
   "outputs": [],
   "source": [
    "df = pd.read_csv('Cans of Beer Sold.csv')"
   ]
  },
  {
   "cell_type": "code",
   "execution_count": 40,
   "metadata": {},
   "outputs": [
    {
     "data": {
      "text/html": [
       "<div>\n",
       "<style scoped>\n",
       "    .dataframe tbody tr th:only-of-type {\n",
       "        vertical-align: middle;\n",
       "    }\n",
       "\n",
       "    .dataframe tbody tr th {\n",
       "        vertical-align: top;\n",
       "    }\n",
       "\n",
       "    .dataframe thead th {\n",
       "        text-align: right;\n",
       "    }\n",
       "</style>\n",
       "<table border=\"1\" class=\"dataframe\">\n",
       "  <thead>\n",
       "    <tr style=\"text-align: right;\">\n",
       "      <th></th>\n",
       "      <th>Date</th>\n",
       "      <th>Year</th>\n",
       "      <th>Temperature</th>\n",
       "      <th>Cans of beer sold</th>\n",
       "    </tr>\n",
       "  </thead>\n",
       "  <tbody>\n",
       "    <tr>\n",
       "      <th>0</th>\n",
       "      <td>1-Jun</td>\n",
       "      <td>2010</td>\n",
       "      <td>71</td>\n",
       "      <td>9150</td>\n",
       "    </tr>\n",
       "    <tr>\n",
       "      <th>1</th>\n",
       "      <td>20-Jun</td>\n",
       "      <td>2010</td>\n",
       "      <td>81</td>\n",
       "      <td>10084</td>\n",
       "    </tr>\n",
       "    <tr>\n",
       "      <th>2</th>\n",
       "      <td>12-Jul</td>\n",
       "      <td>2010</td>\n",
       "      <td>71</td>\n",
       "      <td>9242</td>\n",
       "    </tr>\n",
       "    <tr>\n",
       "      <th>3</th>\n",
       "      <td>28-Jul</td>\n",
       "      <td>2010</td>\n",
       "      <td>83</td>\n",
       "      <td>10361</td>\n",
       "    </tr>\n",
       "    <tr>\n",
       "      <th>4</th>\n",
       "      <td>3-Aug</td>\n",
       "      <td>2010</td>\n",
       "      <td>65</td>\n",
       "      <td>8829</td>\n",
       "    </tr>\n",
       "    <tr>\n",
       "      <th>5</th>\n",
       "      <td>16-Aug</td>\n",
       "      <td>2010</td>\n",
       "      <td>71</td>\n",
       "      <td>9253</td>\n",
       "    </tr>\n",
       "    <tr>\n",
       "      <th>6</th>\n",
       "      <td>29-Aug</td>\n",
       "      <td>2010</td>\n",
       "      <td>85</td>\n",
       "      <td>10713</td>\n",
       "    </tr>\n",
       "    <tr>\n",
       "      <th>7</th>\n",
       "      <td>2-Sep</td>\n",
       "      <td>2010</td>\n",
       "      <td>81</td>\n",
       "      <td>10689</td>\n",
       "    </tr>\n",
       "    <tr>\n",
       "      <th>8</th>\n",
       "      <td>19-Sep</td>\n",
       "      <td>2010</td>\n",
       "      <td>67</td>\n",
       "      <td>8884</td>\n",
       "    </tr>\n",
       "    <tr>\n",
       "      <th>9</th>\n",
       "      <td>5-Oct</td>\n",
       "      <td>2010</td>\n",
       "      <td>69</td>\n",
       "      <td>9155</td>\n",
       "    </tr>\n",
       "    <tr>\n",
       "      <th>10</th>\n",
       "      <td>1-Jun</td>\n",
       "      <td>2011</td>\n",
       "      <td>81</td>\n",
       "      <td>10369</td>\n",
       "    </tr>\n",
       "    <tr>\n",
       "      <th>11</th>\n",
       "      <td>20-Jun</td>\n",
       "      <td>2011</td>\n",
       "      <td>83</td>\n",
       "      <td>10149</td>\n",
       "    </tr>\n",
       "    <tr>\n",
       "      <th>12</th>\n",
       "      <td>20-Jun</td>\n",
       "      <td>2011</td>\n",
       "      <td>83</td>\n",
       "      <td>10450</td>\n",
       "    </tr>\n",
       "    <tr>\n",
       "      <th>13</th>\n",
       "      <td>12-Jul</td>\n",
       "      <td>2011</td>\n",
       "      <td>77</td>\n",
       "      <td>9628</td>\n",
       "    </tr>\n",
       "    <tr>\n",
       "      <th>14</th>\n",
       "      <td>28-Jul</td>\n",
       "      <td>2011</td>\n",
       "      <td>67</td>\n",
       "      <td>8735</td>\n",
       "    </tr>\n",
       "    <tr>\n",
       "      <th>15</th>\n",
       "      <td>3-Aug</td>\n",
       "      <td>2011</td>\n",
       "      <td>83</td>\n",
       "      <td>9840</td>\n",
       "    </tr>\n",
       "    <tr>\n",
       "      <th>16</th>\n",
       "      <td>16-Aug</td>\n",
       "      <td>2011</td>\n",
       "      <td>83</td>\n",
       "      <td>10246</td>\n",
       "    </tr>\n",
       "    <tr>\n",
       "      <th>17</th>\n",
       "      <td>2-Sep</td>\n",
       "      <td>2011</td>\n",
       "      <td>79</td>\n",
       "      <td>10240</td>\n",
       "    </tr>\n",
       "    <tr>\n",
       "      <th>18</th>\n",
       "      <td>19-Sep</td>\n",
       "      <td>2011</td>\n",
       "      <td>79</td>\n",
       "      <td>9914</td>\n",
       "    </tr>\n",
       "    <tr>\n",
       "      <th>19</th>\n",
       "      <td>5-Oct</td>\n",
       "      <td>2011</td>\n",
       "      <td>81</td>\n",
       "      <td>10288</td>\n",
       "    </tr>\n",
       "    <tr>\n",
       "      <th>20</th>\n",
       "      <td>1-Jun</td>\n",
       "      <td>2012</td>\n",
       "      <td>73</td>\n",
       "      <td>9445</td>\n",
       "    </tr>\n",
       "    <tr>\n",
       "      <th>21</th>\n",
       "      <td>20-Jun</td>\n",
       "      <td>2012</td>\n",
       "      <td>67</td>\n",
       "      <td>9088</td>\n",
       "    </tr>\n",
       "    <tr>\n",
       "      <th>22</th>\n",
       "      <td>12-Jul</td>\n",
       "      <td>2012</td>\n",
       "      <td>79</td>\n",
       "      <td>10169</td>\n",
       "    </tr>\n",
       "    <tr>\n",
       "      <th>23</th>\n",
       "      <td>28-Jul</td>\n",
       "      <td>2012</td>\n",
       "      <td>83</td>\n",
       "      <td>10412</td>\n",
       "    </tr>\n",
       "    <tr>\n",
       "      <th>24</th>\n",
       "      <td>3-Aug</td>\n",
       "      <td>2012</td>\n",
       "      <td>79</td>\n",
       "      <td>10065</td>\n",
       "    </tr>\n",
       "    <tr>\n",
       "      <th>25</th>\n",
       "      <td>16-Aug</td>\n",
       "      <td>2012</td>\n",
       "      <td>81</td>\n",
       "      <td>10262</td>\n",
       "    </tr>\n",
       "    <tr>\n",
       "      <th>26</th>\n",
       "      <td>2-Sep</td>\n",
       "      <td>2012</td>\n",
       "      <td>73</td>\n",
       "      <td>9625</td>\n",
       "    </tr>\n",
       "    <tr>\n",
       "      <th>27</th>\n",
       "      <td>19-Sep</td>\n",
       "      <td>2012</td>\n",
       "      <td>69</td>\n",
       "      <td>9412</td>\n",
       "    </tr>\n",
       "    <tr>\n",
       "      <th>28</th>\n",
       "      <td>5-Oct</td>\n",
       "      <td>2012</td>\n",
       "      <td>73</td>\n",
       "      <td>9840</td>\n",
       "    </tr>\n",
       "    <tr>\n",
       "      <th>29</th>\n",
       "      <td>1-Jun</td>\n",
       "      <td>2013</td>\n",
       "      <td>71</td>\n",
       "      <td>9293</td>\n",
       "    </tr>\n",
       "    <tr>\n",
       "      <th>30</th>\n",
       "      <td>20-Jun</td>\n",
       "      <td>2013</td>\n",
       "      <td>83</td>\n",
       "      <td>10214</td>\n",
       "    </tr>\n",
       "    <tr>\n",
       "      <th>31</th>\n",
       "      <td>20-Jun</td>\n",
       "      <td>2013</td>\n",
       "      <td>75</td>\n",
       "      <td>10034</td>\n",
       "    </tr>\n",
       "    <tr>\n",
       "      <th>32</th>\n",
       "      <td>12-Jul</td>\n",
       "      <td>2013</td>\n",
       "      <td>77</td>\n",
       "      <td>10215</td>\n",
       "    </tr>\n",
       "    <tr>\n",
       "      <th>33</th>\n",
       "      <td>3-Aug</td>\n",
       "      <td>2013</td>\n",
       "      <td>79</td>\n",
       "      <td>10312</td>\n",
       "    </tr>\n",
       "    <tr>\n",
       "      <th>34</th>\n",
       "      <td>16-Aug</td>\n",
       "      <td>2013</td>\n",
       "      <td>75</td>\n",
       "      <td>9719</td>\n",
       "    </tr>\n",
       "    <tr>\n",
       "      <th>35</th>\n",
       "      <td>2-Sep</td>\n",
       "      <td>2013</td>\n",
       "      <td>69</td>\n",
       "      <td>9370</td>\n",
       "    </tr>\n",
       "    <tr>\n",
       "      <th>36</th>\n",
       "      <td>5-Oct</td>\n",
       "      <td>2013</td>\n",
       "      <td>77</td>\n",
       "      <td>9976</td>\n",
       "    </tr>\n",
       "  </tbody>\n",
       "</table>\n",
       "</div>"
      ],
      "text/plain": [
       "      Date  Year  Temperature  Cans of beer sold\n",
       "0    1-Jun  2010           71               9150\n",
       "1   20-Jun  2010           81              10084\n",
       "2   12-Jul  2010           71               9242\n",
       "3   28-Jul  2010           83              10361\n",
       "4    3-Aug  2010           65               8829\n",
       "5   16-Aug  2010           71               9253\n",
       "6   29-Aug  2010           85              10713\n",
       "7    2-Sep  2010           81              10689\n",
       "8   19-Sep  2010           67               8884\n",
       "9    5-Oct  2010           69               9155\n",
       "10   1-Jun  2011           81              10369\n",
       "11  20-Jun  2011           83              10149\n",
       "12  20-Jun  2011           83              10450\n",
       "13  12-Jul  2011           77               9628\n",
       "14  28-Jul  2011           67               8735\n",
       "15   3-Aug  2011           83               9840\n",
       "16  16-Aug  2011           83              10246\n",
       "17   2-Sep  2011           79              10240\n",
       "18  19-Sep  2011           79               9914\n",
       "19   5-Oct  2011           81              10288\n",
       "20   1-Jun  2012           73               9445\n",
       "21  20-Jun  2012           67               9088\n",
       "22  12-Jul  2012           79              10169\n",
       "23  28-Jul  2012           83              10412\n",
       "24   3-Aug  2012           79              10065\n",
       "25  16-Aug  2012           81              10262\n",
       "26   2-Sep  2012           73               9625\n",
       "27  19-Sep  2012           69               9412\n",
       "28   5-Oct  2012           73               9840\n",
       "29   1-Jun  2013           71               9293\n",
       "30  20-Jun  2013           83              10214\n",
       "31  20-Jun  2013           75              10034\n",
       "32  12-Jul  2013           77              10215\n",
       "33   3-Aug  2013           79              10312\n",
       "34  16-Aug  2013           75               9719\n",
       "35   2-Sep  2013           69               9370\n",
       "36   5-Oct  2013           77               9976"
      ]
     },
     "execution_count": 40,
     "metadata": {},
     "output_type": "execute_result"
    }
   ],
   "source": [
    "df"
   ]
  },
  {
   "cell_type": "markdown",
   "metadata": {},
   "source": [
    "#### Output explained:\n",
    "\n",
    "As we can see above, all the data was read into our DataFrame variable _df_."
   ]
  },
  {
   "cell_type": "markdown",
   "metadata": {},
   "source": [
    "## Exploratory Data Analysis (EDA)\n",
    "\n",
    "Since this data is not too large, it's easy to see the entire DataFrame at a glance. But what if our DataFrame contained millions of rows?\n",
    "\n",
    "> It would be extremely cumbersome to manually evaluate so many rows of data. Enter EDA! Here, we use methods to explore the DataFrame and get a general idea of what the data looks like.\n",
    "\n",
    "Advantages of EDA: \n",
    "- observe data quality\n",
    "- observe data spread and distribution\n",
    "- check for any anomalous patterns\n",
    "\n",
    "Let's perform another thought experiment. Since it's not advisable to manually parse millions of rows, what questions can we ask of the data in order for us to gain a better understanding of it?\n",
    "\n",
    "> Um... can we atleast see a few rows, if not the entire dataset?\n",
    "\n",
    "> How many rows and columns does the DataFrame contain?\n",
    "\n",
    "> Are there any missing values?\n",
    "\n",
    "> Are there duplicates?\n",
    "\n",
    "> What are the datatypes of the variables? And are they consistent with the real-world? \n",
    "\n",
    "> What does the distribution of data in the columns look like? For example, what's the maximum value, minimum value etc?\n",
    "\n",
    "> What are the unique/distinct values present in every column?\n",
    "\n",
    "> And how many of the those unique values are present?\n",
    "\n",
    "> Finally, do correlations exist between some of the variables?\n",
    "\n",
    "We're going to answer all these questions as we deep dive into EDA using Pandas. Let's tackle them one at a time. \n",
    "\n",
    "### Um... can we atleast see a few rows, if not the entire dataset?\n",
    "\n",
    "> Yes we can! And it's done using the `head()` and `tail()` method.\n",
    "\n",
    "Both methods are run against a DataFrame to get a look at the data. Read more about the [head()](https://pandas.pydata.org/pandas-docs/stable/reference/api/pandas.DataFrame.head.html) and [tail()](https://pandas.pydata.org/pandas-docs/stable/reference/api/pandas.DataFrame.tail.html) methods.\n",
    "\n",
    "By default, `head()` returns the first 5 rows (indexed 0 through 4 since Python is 0-indexed). But if you want to view, say the first 10 rows, then simply pass the desired number (10 in our case) as an argument to the method. \n",
    "\n",
    "`tail()` is similar to `head()` but with a small difference. The name gives it away! Run the cells below and check it out!"
   ]
  },
  {
   "cell_type": "code",
   "execution_count": 4,
   "metadata": {},
   "outputs": [
    {
     "data": {
      "text/html": [
       "<div>\n",
       "<style scoped>\n",
       "    .dataframe tbody tr th:only-of-type {\n",
       "        vertical-align: middle;\n",
       "    }\n",
       "\n",
       "    .dataframe tbody tr th {\n",
       "        vertical-align: top;\n",
       "    }\n",
       "\n",
       "    .dataframe thead th {\n",
       "        text-align: right;\n",
       "    }\n",
       "</style>\n",
       "<table border=\"1\" class=\"dataframe\">\n",
       "  <thead>\n",
       "    <tr style=\"text-align: right;\">\n",
       "      <th></th>\n",
       "      <th>Date</th>\n",
       "      <th>Year</th>\n",
       "      <th>Temperature</th>\n",
       "      <th>Cans of beer sold</th>\n",
       "    </tr>\n",
       "  </thead>\n",
       "  <tbody>\n",
       "    <tr>\n",
       "      <th>0</th>\n",
       "      <td>1-Jun</td>\n",
       "      <td>2010</td>\n",
       "      <td>71</td>\n",
       "      <td>9150</td>\n",
       "    </tr>\n",
       "    <tr>\n",
       "      <th>1</th>\n",
       "      <td>20-Jun</td>\n",
       "      <td>2010</td>\n",
       "      <td>81</td>\n",
       "      <td>10084</td>\n",
       "    </tr>\n",
       "    <tr>\n",
       "      <th>2</th>\n",
       "      <td>12-Jul</td>\n",
       "      <td>2010</td>\n",
       "      <td>71</td>\n",
       "      <td>9242</td>\n",
       "    </tr>\n",
       "    <tr>\n",
       "      <th>3</th>\n",
       "      <td>28-Jul</td>\n",
       "      <td>2010</td>\n",
       "      <td>83</td>\n",
       "      <td>10361</td>\n",
       "    </tr>\n",
       "    <tr>\n",
       "      <th>4</th>\n",
       "      <td>3-Aug</td>\n",
       "      <td>2010</td>\n",
       "      <td>65</td>\n",
       "      <td>8829</td>\n",
       "    </tr>\n",
       "  </tbody>\n",
       "</table>\n",
       "</div>"
      ],
      "text/plain": [
       "     Date  Year  Temperature  Cans of beer sold\n",
       "0   1-Jun  2010           71               9150\n",
       "1  20-Jun  2010           81              10084\n",
       "2  12-Jul  2010           71               9242\n",
       "3  28-Jul  2010           83              10361\n",
       "4   3-Aug  2010           65               8829"
      ]
     },
     "execution_count": 4,
     "metadata": {},
     "output_type": "execute_result"
    }
   ],
   "source": [
    "df.head()"
   ]
  },
  {
   "cell_type": "code",
   "execution_count": null,
   "metadata": {},
   "outputs": [],
   "source": [
    "# Run this cell to observe the output\n",
    "df.head(10)"
   ]
  },
  {
   "cell_type": "code",
   "execution_count": null,
   "metadata": {},
   "outputs": [],
   "source": [
    "# Run this cell to observe the output\n",
    "df.tail()"
   ]
  },
  {
   "cell_type": "markdown",
   "metadata": {},
   "source": [
    "### How many rows and columns does the DataFrame contain?\n",
    "\n",
    "> Use the `shape` property.\n",
    "\n",
    "It returns the dimensions of the DataFrame. Read more about the property [here](https://pandas.pydata.org/pandas-docs/stable/reference/api/pandas.DataFrame.shape.html).\n",
    "\n",
    "**Note:** If you observe the syntax carefully, you'll notice that `shape` doesn't have any parentheses. That's because it's a property, not a method, of the DataFrame Class!"
   ]
  },
  {
   "cell_type": "code",
   "execution_count": 29,
   "metadata": {},
   "outputs": [
    {
     "data": {
      "text/plain": [
       "(37, 4)"
      ]
     },
     "execution_count": 29,
     "metadata": {},
     "output_type": "execute_result"
    }
   ],
   "source": [
    "df.shape"
   ]
  },
  {
   "cell_type": "markdown",
   "metadata": {},
   "source": [
    "For curiosity's sake, what happens if we run `shape` with parentheses?!"
   ]
  },
  {
   "cell_type": "code",
   "execution_count": null,
   "metadata": {},
   "outputs": [],
   "source": [
    "# Run this cell to observe the output\n",
    "df.shape()"
   ]
  },
  {
   "cell_type": "markdown",
   "metadata": {},
   "source": [
    "### Are there any missing values?\n",
    "\n",
    "> Use the `isnull()` method.\n",
    "\n",
    "As the name suggests, `isnull()` returns a Boolean value for every single data point:\n",
    "\n",
    "Value | Interpretation\n",
    "--- | ---\n",
    "True | Value is null\n",
    "False | Value is not null\n",
    "\n",
    "Read more about the method [here](https://pandas.pydata.org/pandas-docs/stable/reference/api/pandas.DataFrame.isnull.html)."
   ]
  },
  {
   "cell_type": "code",
   "execution_count": 30,
   "metadata": {},
   "outputs": [
    {
     "data": {
      "text/html": [
       "<div>\n",
       "<style scoped>\n",
       "    .dataframe tbody tr th:only-of-type {\n",
       "        vertical-align: middle;\n",
       "    }\n",
       "\n",
       "    .dataframe tbody tr th {\n",
       "        vertical-align: top;\n",
       "    }\n",
       "\n",
       "    .dataframe thead th {\n",
       "        text-align: right;\n",
       "    }\n",
       "</style>\n",
       "<table border=\"1\" class=\"dataframe\">\n",
       "  <thead>\n",
       "    <tr style=\"text-align: right;\">\n",
       "      <th></th>\n",
       "      <th>Date</th>\n",
       "      <th>Year</th>\n",
       "      <th>Temperature</th>\n",
       "      <th>Cans of beer sold</th>\n",
       "    </tr>\n",
       "  </thead>\n",
       "  <tbody>\n",
       "    <tr>\n",
       "      <th>0</th>\n",
       "      <td>False</td>\n",
       "      <td>False</td>\n",
       "      <td>False</td>\n",
       "      <td>False</td>\n",
       "    </tr>\n",
       "    <tr>\n",
       "      <th>1</th>\n",
       "      <td>False</td>\n",
       "      <td>False</td>\n",
       "      <td>False</td>\n",
       "      <td>False</td>\n",
       "    </tr>\n",
       "    <tr>\n",
       "      <th>2</th>\n",
       "      <td>False</td>\n",
       "      <td>False</td>\n",
       "      <td>False</td>\n",
       "      <td>False</td>\n",
       "    </tr>\n",
       "    <tr>\n",
       "      <th>3</th>\n",
       "      <td>False</td>\n",
       "      <td>False</td>\n",
       "      <td>False</td>\n",
       "      <td>False</td>\n",
       "    </tr>\n",
       "    <tr>\n",
       "      <th>4</th>\n",
       "      <td>False</td>\n",
       "      <td>False</td>\n",
       "      <td>False</td>\n",
       "      <td>False</td>\n",
       "    </tr>\n",
       "    <tr>\n",
       "      <th>5</th>\n",
       "      <td>False</td>\n",
       "      <td>False</td>\n",
       "      <td>False</td>\n",
       "      <td>False</td>\n",
       "    </tr>\n",
       "    <tr>\n",
       "      <th>6</th>\n",
       "      <td>False</td>\n",
       "      <td>False</td>\n",
       "      <td>False</td>\n",
       "      <td>False</td>\n",
       "    </tr>\n",
       "    <tr>\n",
       "      <th>7</th>\n",
       "      <td>False</td>\n",
       "      <td>False</td>\n",
       "      <td>False</td>\n",
       "      <td>False</td>\n",
       "    </tr>\n",
       "    <tr>\n",
       "      <th>8</th>\n",
       "      <td>False</td>\n",
       "      <td>False</td>\n",
       "      <td>False</td>\n",
       "      <td>False</td>\n",
       "    </tr>\n",
       "    <tr>\n",
       "      <th>9</th>\n",
       "      <td>False</td>\n",
       "      <td>False</td>\n",
       "      <td>False</td>\n",
       "      <td>False</td>\n",
       "    </tr>\n",
       "    <tr>\n",
       "      <th>10</th>\n",
       "      <td>False</td>\n",
       "      <td>False</td>\n",
       "      <td>False</td>\n",
       "      <td>False</td>\n",
       "    </tr>\n",
       "    <tr>\n",
       "      <th>11</th>\n",
       "      <td>False</td>\n",
       "      <td>False</td>\n",
       "      <td>False</td>\n",
       "      <td>False</td>\n",
       "    </tr>\n",
       "    <tr>\n",
       "      <th>12</th>\n",
       "      <td>False</td>\n",
       "      <td>False</td>\n",
       "      <td>False</td>\n",
       "      <td>False</td>\n",
       "    </tr>\n",
       "    <tr>\n",
       "      <th>13</th>\n",
       "      <td>False</td>\n",
       "      <td>False</td>\n",
       "      <td>False</td>\n",
       "      <td>False</td>\n",
       "    </tr>\n",
       "    <tr>\n",
       "      <th>14</th>\n",
       "      <td>False</td>\n",
       "      <td>False</td>\n",
       "      <td>False</td>\n",
       "      <td>False</td>\n",
       "    </tr>\n",
       "    <tr>\n",
       "      <th>15</th>\n",
       "      <td>False</td>\n",
       "      <td>False</td>\n",
       "      <td>False</td>\n",
       "      <td>False</td>\n",
       "    </tr>\n",
       "    <tr>\n",
       "      <th>16</th>\n",
       "      <td>False</td>\n",
       "      <td>False</td>\n",
       "      <td>False</td>\n",
       "      <td>False</td>\n",
       "    </tr>\n",
       "    <tr>\n",
       "      <th>17</th>\n",
       "      <td>False</td>\n",
       "      <td>False</td>\n",
       "      <td>False</td>\n",
       "      <td>False</td>\n",
       "    </tr>\n",
       "    <tr>\n",
       "      <th>18</th>\n",
       "      <td>False</td>\n",
       "      <td>False</td>\n",
       "      <td>False</td>\n",
       "      <td>False</td>\n",
       "    </tr>\n",
       "    <tr>\n",
       "      <th>19</th>\n",
       "      <td>False</td>\n",
       "      <td>False</td>\n",
       "      <td>False</td>\n",
       "      <td>False</td>\n",
       "    </tr>\n",
       "    <tr>\n",
       "      <th>20</th>\n",
       "      <td>False</td>\n",
       "      <td>False</td>\n",
       "      <td>False</td>\n",
       "      <td>False</td>\n",
       "    </tr>\n",
       "    <tr>\n",
       "      <th>21</th>\n",
       "      <td>False</td>\n",
       "      <td>False</td>\n",
       "      <td>False</td>\n",
       "      <td>False</td>\n",
       "    </tr>\n",
       "    <tr>\n",
       "      <th>22</th>\n",
       "      <td>False</td>\n",
       "      <td>False</td>\n",
       "      <td>False</td>\n",
       "      <td>False</td>\n",
       "    </tr>\n",
       "    <tr>\n",
       "      <th>23</th>\n",
       "      <td>False</td>\n",
       "      <td>False</td>\n",
       "      <td>False</td>\n",
       "      <td>False</td>\n",
       "    </tr>\n",
       "    <tr>\n",
       "      <th>24</th>\n",
       "      <td>False</td>\n",
       "      <td>False</td>\n",
       "      <td>False</td>\n",
       "      <td>False</td>\n",
       "    </tr>\n",
       "    <tr>\n",
       "      <th>25</th>\n",
       "      <td>False</td>\n",
       "      <td>False</td>\n",
       "      <td>False</td>\n",
       "      <td>False</td>\n",
       "    </tr>\n",
       "    <tr>\n",
       "      <th>26</th>\n",
       "      <td>False</td>\n",
       "      <td>False</td>\n",
       "      <td>False</td>\n",
       "      <td>False</td>\n",
       "    </tr>\n",
       "    <tr>\n",
       "      <th>27</th>\n",
       "      <td>False</td>\n",
       "      <td>False</td>\n",
       "      <td>False</td>\n",
       "      <td>False</td>\n",
       "    </tr>\n",
       "    <tr>\n",
       "      <th>28</th>\n",
       "      <td>False</td>\n",
       "      <td>False</td>\n",
       "      <td>False</td>\n",
       "      <td>False</td>\n",
       "    </tr>\n",
       "    <tr>\n",
       "      <th>29</th>\n",
       "      <td>False</td>\n",
       "      <td>False</td>\n",
       "      <td>False</td>\n",
       "      <td>False</td>\n",
       "    </tr>\n",
       "    <tr>\n",
       "      <th>30</th>\n",
       "      <td>False</td>\n",
       "      <td>False</td>\n",
       "      <td>False</td>\n",
       "      <td>False</td>\n",
       "    </tr>\n",
       "    <tr>\n",
       "      <th>31</th>\n",
       "      <td>False</td>\n",
       "      <td>False</td>\n",
       "      <td>False</td>\n",
       "      <td>False</td>\n",
       "    </tr>\n",
       "    <tr>\n",
       "      <th>32</th>\n",
       "      <td>False</td>\n",
       "      <td>False</td>\n",
       "      <td>False</td>\n",
       "      <td>False</td>\n",
       "    </tr>\n",
       "    <tr>\n",
       "      <th>33</th>\n",
       "      <td>False</td>\n",
       "      <td>False</td>\n",
       "      <td>False</td>\n",
       "      <td>False</td>\n",
       "    </tr>\n",
       "    <tr>\n",
       "      <th>34</th>\n",
       "      <td>False</td>\n",
       "      <td>False</td>\n",
       "      <td>False</td>\n",
       "      <td>False</td>\n",
       "    </tr>\n",
       "    <tr>\n",
       "      <th>35</th>\n",
       "      <td>False</td>\n",
       "      <td>False</td>\n",
       "      <td>False</td>\n",
       "      <td>False</td>\n",
       "    </tr>\n",
       "    <tr>\n",
       "      <th>36</th>\n",
       "      <td>False</td>\n",
       "      <td>False</td>\n",
       "      <td>False</td>\n",
       "      <td>False</td>\n",
       "    </tr>\n",
       "  </tbody>\n",
       "</table>\n",
       "</div>"
      ],
      "text/plain": [
       "     Date   Year  Temperature  Cans of beer sold\n",
       "0   False  False        False              False\n",
       "1   False  False        False              False\n",
       "2   False  False        False              False\n",
       "3   False  False        False              False\n",
       "4   False  False        False              False\n",
       "5   False  False        False              False\n",
       "6   False  False        False              False\n",
       "7   False  False        False              False\n",
       "8   False  False        False              False\n",
       "9   False  False        False              False\n",
       "10  False  False        False              False\n",
       "11  False  False        False              False\n",
       "12  False  False        False              False\n",
       "13  False  False        False              False\n",
       "14  False  False        False              False\n",
       "15  False  False        False              False\n",
       "16  False  False        False              False\n",
       "17  False  False        False              False\n",
       "18  False  False        False              False\n",
       "19  False  False        False              False\n",
       "20  False  False        False              False\n",
       "21  False  False        False              False\n",
       "22  False  False        False              False\n",
       "23  False  False        False              False\n",
       "24  False  False        False              False\n",
       "25  False  False        False              False\n",
       "26  False  False        False              False\n",
       "27  False  False        False              False\n",
       "28  False  False        False              False\n",
       "29  False  False        False              False\n",
       "30  False  False        False              False\n",
       "31  False  False        False              False\n",
       "32  False  False        False              False\n",
       "33  False  False        False              False\n",
       "34  False  False        False              False\n",
       "35  False  False        False              False\n",
       "36  False  False        False              False"
      ]
     },
     "execution_count": 30,
     "metadata": {},
     "output_type": "execute_result"
    }
   ],
   "source": [
    "df.isnull()"
   ]
  },
  {
   "cell_type": "markdown",
   "metadata": {},
   "source": [
    "#### Output Explained\n",
    "The output is the entire DataFrame with each data point replaced with its corresponding Boolean value. As seen previously, this output is cumbersome to parse and would quickly get out of hand with increasing number of rows.\n",
    "\n",
    "To aggregate all the Boolean values and return a more manageable output, we sum up all the True values using the `sum()` method. The way this is used below is known as **method chaining**. That's because one method is chained to the next and the Python interpreter is clever enough to know that the output of the first method is to be used as the input to the second method and give us the final output.\n",
    "\n",
    "> `isnull().sum()`"
   ]
  },
  {
   "cell_type": "code",
   "execution_count": null,
   "metadata": {},
   "outputs": [],
   "source": [
    "# Run this cell to observe the output\n",
    "df.isnull().sum()"
   ]
  },
  {
   "cell_type": "markdown",
   "metadata": {},
   "source": [
    "### Are there duplicates?\n",
    "\n",
    "> Use the `duplicated()` method.\n",
    "\n",
    "`duplicated()` checks for row-wise duplicates in the data. It follows the same strategy as `isnull()` in the sense that it returns a Boolean value for every row:\n",
    "\n",
    "Value | Interpretation\n",
    "--- | ---\n",
    "True | A duplicate row exists elsewhere in the data\n",
    "False | No duplicates exist\n",
    "\n",
    "Read more about the method [here](https://pandas.pydata.org/pandas-docs/stable/reference/api/pandas.DataFrame.duplicated.html).\n",
    "\n",
    "In order to aggregate results... you already know it! Use method chaining and watch the magic happen!"
   ]
  },
  {
   "cell_type": "code",
   "execution_count": 31,
   "metadata": {},
   "outputs": [
    {
     "data": {
      "text/plain": [
       "0     False\n",
       "1     False\n",
       "2     False\n",
       "3     False\n",
       "4     False\n",
       "5     False\n",
       "6     False\n",
       "7     False\n",
       "8     False\n",
       "9     False\n",
       "10    False\n",
       "11    False\n",
       "12    False\n",
       "13    False\n",
       "14    False\n",
       "15    False\n",
       "16    False\n",
       "17    False\n",
       "18    False\n",
       "19    False\n",
       "20    False\n",
       "21    False\n",
       "22    False\n",
       "23    False\n",
       "24    False\n",
       "25    False\n",
       "26    False\n",
       "27    False\n",
       "28    False\n",
       "29    False\n",
       "30    False\n",
       "31    False\n",
       "32    False\n",
       "33    False\n",
       "34    False\n",
       "35    False\n",
       "36    False\n",
       "dtype: bool"
      ]
     },
     "execution_count": 31,
     "metadata": {},
     "output_type": "execute_result"
    }
   ],
   "source": [
    "df.duplicated()"
   ]
  },
  {
   "cell_type": "code",
   "execution_count": null,
   "metadata": {},
   "outputs": [],
   "source": [
    "# Run this cell to observe the output\n",
    "df.duplicated().sum()"
   ]
  },
  {
   "cell_type": "markdown",
   "metadata": {},
   "source": [
    "### What are the datatypes of the variables? \n",
    "\n",
    "> Use the `info()` method.\n",
    "\n",
    "See it to believe it! This method is best explained after you take a look at the output. Read more about the method [here](https://pandas.pydata.org/pandas-docs/stable/reference/api/pandas.DataFrame.info.html)."
   ]
  },
  {
   "cell_type": "code",
   "execution_count": 31,
   "metadata": {},
   "outputs": [
    {
     "name": "stdout",
     "output_type": "stream",
     "text": [
      "<class 'pandas.core.frame.DataFrame'>\n",
      "RangeIndex: 37 entries, 0 to 36\n",
      "Data columns (total 4 columns):\n",
      "Date                 37 non-null object\n",
      "Year                 37 non-null int64\n",
      "Temperature          37 non-null int64\n",
      "Cans of beer sold    37 non-null int64\n",
      "dtypes: int64(3), object(1)\n",
      "memory usage: 1.3+ KB\n"
     ]
    }
   ],
   "source": [
    "df.info()"
   ]
  },
  {
   "cell_type": "markdown",
   "metadata": {},
   "source": [
    "#### Output explained:\n",
    "\n",
    "- The first line tells us that the datatype of variable _df_ is a 'pandas.core.frame.DataFrame'. \n",
    "\n",
    "**Note:** Running the command `type(df)` will give you the same output.\n",
    "\n",
    "- The second line tells us the range of the index values. Our DataFrame has 37 rows indexed from 0 through 36.\n",
    "- The third line tell us that we have a total of 4 columns. \n",
    "\n",
    "**Note:** Observe how the first 3 lines of the `info()` method tell us the datatype, number of rows and columns respectively. That's what makes it one of the more powerful methods in performing EDA.\n",
    "\n",
    "- The next couple of lines break down the column information:\n",
    "        - name of the column\n",
    "        - number of non-null values\n",
    "        - the datatype of each column\n",
    "        \n",
    "**Note:** I'm sure most of you are familiar with the `int` datatype to represent integers but there's an additional datatype present here named `object`. The easiest way to think about an `object` datatype is a string containing text or a mix of numeric and non-numeric values. \n",
    "\n",
    "- The second to last line groups all the datatypes together by telling us that there are 3 columns with datatype `int64` and 1 column with datatype `object`. \n",
    "\n",
    "**Advantage:** This is done so that we can get an aggregated view of all the datatypes without having to parse through all the columns individually. Again think of the case where there's a dataset containing thousands of columns and you'll start to appreciate the value of aggregations like these!\n",
    "\n",
    "- Finally, the last line estimates the space that our DataFrame is occupying in memory.\n",
    "\n",
    "### And are the datatypes consistent with the real-world?\n",
    "\n",
    "> Use domain knowledge. \n",
    "\n",
    "More often than not, data analytics is employed to solve a business problem which means having domain knowledge is crucial if you want to make a big imapct. In our case:\n",
    "- Even though _Year_ is represented as an `int64` datatype which at first glance might seem okay... in hindsight, it's pretty darn wrong if we want to perform some sort of analytics on it. Here's why.\n",
    "\n",
    "> An `int` datatype means that mathematical operations such as addition, subtraction etc. on the column values are meaningful. That would make sense for a column like _age_ or *number_of_customers* or in our case _Cans of beer sold_. But does adding up the year 2010 and 2011 make sense? Or worse, subtracting 2012 from 2013? The simple answer is no. \n",
    "\n",
    "In the data world, such variables are known as **categorical variables** and Python reserves a `catgory` datatype for them. Even though their outer appearance is deceptive and may be represented as integers or float data types, they are inherently categories. Mathematical operations don't feel right but think about grouping data by those categories and it makes complete sense! \n",
    "\n",
    "For example, you might be thinking, if we group by _Year_, can we find out how many cans of beer were sold each year? \n",
    "\n",
    "> Glad you asked! We'll answer this question when we get to the Visualization section of the course.\n",
    "\n",
    "- Some of you might be thinking about the other numerical variable we have: _Temperature_. Clearly, adding or subtracting 2 temperatures doesn't make for meaningful information but the average or mean temperature absolutely does! That's why we're going to leave _Temperature_ as an `int64` datatype.\n",
    "\n",
    "The process of converting the datatype of a variable to another datatype is known as **type casting.** To type cast to a string or categorical data type, Pandas reserves the `astype()` method. Read more about the method [here](https://pandas.pydata.org/pandas-docs/stable/reference/api/pandas.DataFrame.astype.html).\n",
    "\n",
    "### Now the new question becomes, how do we access a particular column in the DataFrame?\n",
    "\n",
    "Let's take a quick detour and talk about the 2 ways that Pandas lets us do this:\n",
    "1. Using the square bracket notation. \n",
    "As you can see in the command below, accessing the _Date_ column is as easy as typing the name of the DataFrame followed by the name of the column in square brackets. \n",
    "\n",
    "2. Using the dot notation.\n",
    "Another way of accessing columns is by typing the DataFrame name followed by a dot followed by the column name. We'll talk more about this in the Teenage Pandas course.\n",
    "\n",
    "**Note:** In both the above cases, the column names are case-sensitive."
   ]
  },
  {
   "cell_type": "code",
   "execution_count": 4,
   "metadata": {},
   "outputs": [],
   "source": [
    "df['Year'] = df['Year'].astype('category')"
   ]
  },
  {
   "cell_type": "markdown",
   "metadata": {},
   "source": [
    "We're going to run the `info()` method again to make sure that type casting was successful."
   ]
  },
  {
   "cell_type": "code",
   "execution_count": 8,
   "metadata": {},
   "outputs": [
    {
     "name": "stdout",
     "output_type": "stream",
     "text": [
      "<class 'pandas.core.frame.DataFrame'>\n",
      "RangeIndex: 37 entries, 0 to 36\n",
      "Data columns (total 4 columns):\n",
      "Date                 37 non-null object\n",
      "Year                 37 non-null category\n",
      "Temperature          37 non-null int64\n",
      "Cans of beer sold    37 non-null int64\n",
      "dtypes: category(1), int64(2), object(1)\n",
      "memory usage: 1.2+ KB\n"
     ]
    }
   ],
   "source": [
    "df.info()"
   ]
  },
  {
   "cell_type": "markdown",
   "metadata": {},
   "source": [
    "### What does the distribution of data in the columns look like? For example, what's the maximum value, minimum value etc?\n",
    "\n",
    "> Use the `describe()` method.\n",
    "\n",
    "This method provides a summary statistics of the data present in the columns. Read more about the method [here](https://pandas.pydata.org/pandas-docs/stable/reference/api/pandas.DataFrame.describe.html).\n",
    "\n",
    "**Note:** The `describe()` method can be run against both numerical as well as categorical datatypes, albeit separately. Their outputs are **not the same** and understandably so, since addition, subtraction, average etc don't make sense for categorical variables. Keep an eye out for differences! \n",
    "\n",
    "**Note:** Also, running the `describe()` method against the entire DataFrame provides a summary statistics of **only the numerical columns.** Whereas when you want to run the method against categorical variables, you need to be explicit!"
   ]
  },
  {
   "cell_type": "code",
   "execution_count": 9,
   "metadata": {},
   "outputs": [
    {
     "data": {
      "text/html": [
       "<div>\n",
       "<style scoped>\n",
       "    .dataframe tbody tr th:only-of-type {\n",
       "        vertical-align: middle;\n",
       "    }\n",
       "\n",
       "    .dataframe tbody tr th {\n",
       "        vertical-align: top;\n",
       "    }\n",
       "\n",
       "    .dataframe thead th {\n",
       "        text-align: right;\n",
       "    }\n",
       "</style>\n",
       "<table border=\"1\" class=\"dataframe\">\n",
       "  <thead>\n",
       "    <tr style=\"text-align: right;\">\n",
       "      <th></th>\n",
       "      <th>Temperature</th>\n",
       "      <th>Cans of beer sold</th>\n",
       "    </tr>\n",
       "  </thead>\n",
       "  <tbody>\n",
       "    <tr>\n",
       "      <th>count</th>\n",
       "      <td>37.000000</td>\n",
       "      <td>37.000000</td>\n",
       "    </tr>\n",
       "    <tr>\n",
       "      <th>mean</th>\n",
       "      <td>76.297297</td>\n",
       "      <td>9828.918919</td>\n",
       "    </tr>\n",
       "    <tr>\n",
       "      <th>std</th>\n",
       "      <td>5.854082</td>\n",
       "      <td>543.817901</td>\n",
       "    </tr>\n",
       "    <tr>\n",
       "      <th>min</th>\n",
       "      <td>65.000000</td>\n",
       "      <td>8735.000000</td>\n",
       "    </tr>\n",
       "    <tr>\n",
       "      <th>25%</th>\n",
       "      <td>71.000000</td>\n",
       "      <td>9370.000000</td>\n",
       "    </tr>\n",
       "    <tr>\n",
       "      <th>50%</th>\n",
       "      <td>77.000000</td>\n",
       "      <td>9976.000000</td>\n",
       "    </tr>\n",
       "    <tr>\n",
       "      <th>75%</th>\n",
       "      <td>81.000000</td>\n",
       "      <td>10246.000000</td>\n",
       "    </tr>\n",
       "    <tr>\n",
       "      <th>max</th>\n",
       "      <td>85.000000</td>\n",
       "      <td>10713.000000</td>\n",
       "    </tr>\n",
       "  </tbody>\n",
       "</table>\n",
       "</div>"
      ],
      "text/plain": [
       "       Temperature  Cans of beer sold\n",
       "count    37.000000          37.000000\n",
       "mean     76.297297        9828.918919\n",
       "std       5.854082         543.817901\n",
       "min      65.000000        8735.000000\n",
       "25%      71.000000        9370.000000\n",
       "50%      77.000000        9976.000000\n",
       "75%      81.000000       10246.000000\n",
       "max      85.000000       10713.000000"
      ]
     },
     "execution_count": 9,
     "metadata": {},
     "output_type": "execute_result"
    }
   ],
   "source": [
    "df.describe()"
   ]
  },
  {
   "cell_type": "code",
   "execution_count": 10,
   "metadata": {},
   "outputs": [
    {
     "data": {
      "text/plain": [
       "count       37\n",
       "unique       4\n",
       "top       2011\n",
       "freq        10\n",
       "Name: Year, dtype: int64"
      ]
     },
     "execution_count": 10,
     "metadata": {},
     "output_type": "execute_result"
    }
   ],
   "source": [
    "df['Year'].describe()"
   ]
  },
  {
   "cell_type": "markdown",
   "metadata": {},
   "source": [
    "### What are the unique/distinct values present in every column?\n",
    "\n",
    "> Use the `unique()` method.\n",
    "\n",
    "This method outputs all the distinct values it comes across in a particular column. Read more about the method [here](https://pandas.pydata.org/pandas-docs/stable/reference/api/pandas.Series.unique.html).\n",
    "\n",
    "**Note:** Even though this method can be run on numerical columns, data analysts usually use this method to observe the unique values in categorical columns to get an idea of how the data can be grouped best. Again, outputs for numerical and categorical columns will look different."
   ]
  },
  {
   "cell_type": "code",
   "execution_count": 36,
   "metadata": {},
   "outputs": [
    {
     "data": {
      "text/plain": [
       "[2010, 2011, 2012, 2013]\n",
       "Categories (4, int64): [2010, 2011, 2012, 2013]"
      ]
     },
     "execution_count": 36,
     "metadata": {},
     "output_type": "execute_result"
    }
   ],
   "source": [
    "df['Year'].unique()"
   ]
  },
  {
   "cell_type": "code",
   "execution_count": null,
   "metadata": {},
   "outputs": [],
   "source": [
    "# Run this cell to observe the output\n",
    "df['Temperature'].unique()"
   ]
  },
  {
   "cell_type": "code",
   "execution_count": null,
   "metadata": {},
   "outputs": [],
   "source": [
    "# Run this cell to observe the output\n",
    "df['Cans of beer sold'].unique()"
   ]
  },
  {
   "cell_type": "markdown",
   "metadata": {},
   "source": [
    "### And how many of the those unique values are present?\n",
    "\n",
    "> Use the `value_counts()` method.\n",
    "\n",
    "This method not only tells us the unique values present in a column but also the number of times each unique value occurs. Read more about the method [here](https://pandas.pydata.org/pandas-docs/stable/reference/api/pandas.Series.value_counts.html)."
   ]
  },
  {
   "cell_type": "code",
   "execution_count": 37,
   "metadata": {},
   "outputs": [
    {
     "data": {
      "text/plain": [
       "2011    10\n",
       "2010    10\n",
       "2012     9\n",
       "2013     8\n",
       "Name: Year, dtype: int64"
      ]
     },
     "execution_count": 37,
     "metadata": {},
     "output_type": "execute_result"
    }
   ],
   "source": [
    "df['Year'].value_counts()"
   ]
  },
  {
   "cell_type": "code",
   "execution_count": null,
   "metadata": {},
   "outputs": [],
   "source": [
    "# Run this cell to observe the output\n",
    "df['Temperature'].value_counts()"
   ]
  },
  {
   "cell_type": "code",
   "execution_count": null,
   "metadata": {},
   "outputs": [],
   "source": [
    "# Run this cell to observe the output\n",
    "df['Cans of beer sold'].value_counts()"
   ]
  },
  {
   "cell_type": "markdown",
   "metadata": {},
   "source": [
    "### Finally, do correlations exist between some of the variables?\n",
    "\n",
    "> Use the `corr()` method.\n",
    "\n",
    "### But first, what is correlation?\n",
    "\n",
    "Simply put, correlation is the measure of the relationship between 2 numerical variables. It is denoted in terms of the correlation coefficient which is a unit-free measure whose value always lies between 1 and -1. It is an extremely important EDA tool since it allows us to see how one variable affects another.\n",
    "\n",
    "Correlation Coefficient | Interpretation\n",
    "--- | ---\n",
    "1 or Close to 1 | Perfect or Strong Positive Correlation. An increase in one variable increases the other.\n",
    "-1 or Close to -1 | Perfect or Strong Negative Correlation. An increase in one variable decreases the other.\n",
    "0 | No Correlation.\n",
    "Close to 0 | Weak Correlation (either Positive or Negative depending on the sign)\n",
    "\n",
    "Back to the `corr()` method - it computes the pair-wise correlations of each column (including the correlation of a column with itself) and outputs a correlation matrix. Read more about the method [here](https://pandas.pydata.org/pandas-docs/stable/reference/api/pandas.DataFrame.corr.html).\n",
    "\n",
    "**Note:**\n",
    "- The correlation of a variable with itself is always 1 and therefore the diagonal of a correlation matrix is always 1.\n",
    "- The information above the diagonal line is a mirror image of the information below the diagonal line. For example, the correlation between  _Temperature_ and _Cans of beer sold_ is 0.926357 and can be observed in\n",
    "    - row 1, column 2 and\n",
    "    - row 2, column 1"
   ]
  },
  {
   "cell_type": "code",
   "execution_count": 5,
   "metadata": {},
   "outputs": [
    {
     "data": {
      "text/html": [
       "<div>\n",
       "<style scoped>\n",
       "    .dataframe tbody tr th:only-of-type {\n",
       "        vertical-align: middle;\n",
       "    }\n",
       "\n",
       "    .dataframe tbody tr th {\n",
       "        vertical-align: top;\n",
       "    }\n",
       "\n",
       "    .dataframe thead th {\n",
       "        text-align: right;\n",
       "    }\n",
       "</style>\n",
       "<table border=\"1\" class=\"dataframe\">\n",
       "  <thead>\n",
       "    <tr style=\"text-align: right;\">\n",
       "      <th></th>\n",
       "      <th>Temperature</th>\n",
       "      <th>Cans of beer sold</th>\n",
       "    </tr>\n",
       "  </thead>\n",
       "  <tbody>\n",
       "    <tr>\n",
       "      <th>Temperature</th>\n",
       "      <td>1.000000</td>\n",
       "      <td>0.926357</td>\n",
       "    </tr>\n",
       "    <tr>\n",
       "      <th>Cans of beer sold</th>\n",
       "      <td>0.926357</td>\n",
       "      <td>1.000000</td>\n",
       "    </tr>\n",
       "  </tbody>\n",
       "</table>\n",
       "</div>"
      ],
      "text/plain": [
       "                   Temperature  Cans of beer sold\n",
       "Temperature           1.000000           0.926357\n",
       "Cans of beer sold     0.926357           1.000000"
      ]
     },
     "execution_count": 5,
     "metadata": {},
     "output_type": "execute_result"
    }
   ],
   "source": [
    "corr = df.corr()\n",
    "corr"
   ]
  },
  {
   "cell_type": "markdown",
   "metadata": {},
   "source": [
    "#### Insights from the output:\n",
    "\n",
    "_Temperature_ and _Cans of beer sold_ are highly correlated with a value of 0.926357. This means that an increase in _Temperature_ results in an increase in _Cans of beer sold_! And vice versa. Later on in the course, we're going to explore this relationship some more to see if we can come up with interesting insights!"
   ]
  },
  {
   "cell_type": "markdown",
   "metadata": {},
   "source": [
    "## Visualization\n",
    "\n",
    "Correlation makes for a good seguey into our next big topic - visualization. It was easy for our eyes to go over the 4 values (resulting from 2 numerical variables) in the above correlation matrix. But can you imagine what it would be like staring at a correlation matrix of 100 numerical features? There'd be 100^2 = 10,000 values on the screen or in other words, you'd be seeing ants all over the place!\n",
    "\n",
    "> This is where visualization shines. It makes it easy to look at data at a glance. We humans are more comfortable looking at a graph and making out patterns and anomalies as compared to looking at row after row of numbers and strings. So let's dive right in!\n",
    "\n",
    "**Note:** As promised at the start of this course, your graphs will render inline right below the cell that runs the code! \n",
    "\n",
    "### Histogram and Density Plot\n",
    "\n",
    "We're going to start with **univariate analysis** which means analysing the distribution of a single variable.\n",
    "\n",
    "> Histograms depict the frequency counts of a numerical variable. The data points are split into discrete, evenly spaced bins along the X-axis and the number of data points (frequency) in each bin is plotted along the Y-axis.\n",
    "\n",
    "> Density plots are formed by computing an estimate of a continuous probability distribution that might have generated the observed data. \n",
    "\n",
    "**Note:** Histograms plot the actual data points whereas density plots are a generalization of what the data might look like if it were a continuous line.\n",
    "\n",
    "We're going to plot a histogram followed by a density plot for each of our numerical variables. Read more about [histograms](https://pandas.pydata.org/pandas-docs/stable/reference/api/pandas.DataFrame.hist.html) and [density plots](https://pandas.pydata.org/pandas-docs/stable/reference/api/pandas.DataFrame.plot.density.html)."
   ]
  },
  {
   "cell_type": "code",
   "execution_count": 49,
   "metadata": {},
   "outputs": [
    {
     "data": {
      "text/plain": [
       "<matplotlib.axes._subplots.AxesSubplot at 0x122f32048>"
      ]
     },
     "execution_count": 49,
     "metadata": {},
     "output_type": "execute_result"
    },
    {
     "data": {
      "image/png": "[encoded data removed]",
      "text/plain": [
       "<Figure size 432x288 with 1 Axes>"
      ]
     },
     "metadata": {
      "needs_background": "light"
     },
     "output_type": "display_data"
    }
   ],
   "source": [
    "df['Temperature'].plot.hist()"
   ]
  },
  {
   "cell_type": "code",
   "execution_count": 50,
   "metadata": {},
   "outputs": [
    {
     "data": {
      "text/plain": [
       "<matplotlib.axes._subplots.AxesSubplot at 0x12302eef0>"
      ]
     },
     "execution_count": 50,
     "metadata": {},
     "output_type": "execute_result"
    },
    {
     "data": {
      "image/png": "[encoded data removed]",
      "text/plain": [
       "<Figure size 432x288 with 1 Axes>"
      ]
     },
     "metadata": {
      "needs_background": "light"
     },
     "output_type": "display_data"
    }
   ],
   "source": [
    "df['Temperature'].plot.density()"
   ]
  },
  {
   "cell_type": "code",
   "execution_count": null,
   "metadata": {},
   "outputs": [],
   "source": [
    "# Run this cell to observe the output\n",
    "df['Cans of beer sold'].plot.hist()"
   ]
  },
  {
   "cell_type": "code",
   "execution_count": null,
   "metadata": {},
   "outputs": [],
   "source": [
    "# Run this cell to observe the output\n",
    "df['Cans of beer sold'].plot.density()"
   ]
  },
  {
   "cell_type": "markdown",
   "metadata": {},
   "source": [
    "### Correlation Matrix\n",
    "\n",
    "Let's move onto **bivariate analysis** where we analyze the relationship between 2 variables. We'll start with correlation since that's most fresh in our memory!\n",
    "\n",
    "> Correlation is plotted with the use of a heatmap, so called because it makes use of color to tell us something about the data. Dark colors indicate a strong relationship between variables whereas light colors indicate a weak relationship. \n",
    "\n",
    "In our case, we use:\n",
    "- the `style` property \n",
    "- chain the `background_gradient()` method\n",
    "    - pass the `cmap` (color map) argument to this method with a value of `coolwarm` so that colors used are blue and red.\n",
    "- chain the `set_precision()` method\n",
    "    - pass the argument `2` to indicate that we'd like to see the correlation represented as a number with 2 places after the decimal point."
   ]
  },
  {
   "cell_type": "code",
   "execution_count": 6,
   "metadata": {},
   "outputs": [
    {
     "data": {
      "text/html": [
       "<style  type=\"text/css\" >\n",
       "    #T_2cb1573c_7db6_11ea_ab10_88e9fe86cb66row0_col0 {\n",
       "            background-color:  #b40426;\n",
       "            color:  #f1f1f1;\n",
       "        }    #T_2cb1573c_7db6_11ea_ab10_88e9fe86cb66row0_col1 {\n",
       "            background-color:  #3b4cc0;\n",
       "            color:  #f1f1f1;\n",
       "        }    #T_2cb1573c_7db6_11ea_ab10_88e9fe86cb66row1_col0 {\n",
       "            background-color:  #3b4cc0;\n",
       "            color:  #f1f1f1;\n",
       "        }    #T_2cb1573c_7db6_11ea_ab10_88e9fe86cb66row1_col1 {\n",
       "            background-color:  #b40426;\n",
       "            color:  #f1f1f1;\n",
       "        }</style><table id=\"T_2cb1573c_7db6_11ea_ab10_88e9fe86cb66\" ><thead>    <tr>        <th class=\"blank level0\" ></th>        <th class=\"col_heading level0 col0\" >Temperature</th>        <th class=\"col_heading level0 col1\" >Cans of beer sold</th>    </tr></thead><tbody>\n",
       "                <tr>\n",
       "                        <th id=\"T_2cb1573c_7db6_11ea_ab10_88e9fe86cb66level0_row0\" class=\"row_heading level0 row0\" >Temperature</th>\n",
       "                        <td id=\"T_2cb1573c_7db6_11ea_ab10_88e9fe86cb66row0_col0\" class=\"data row0 col0\" >1</td>\n",
       "                        <td id=\"T_2cb1573c_7db6_11ea_ab10_88e9fe86cb66row0_col1\" class=\"data row0 col1\" >0.93</td>\n",
       "            </tr>\n",
       "            <tr>\n",
       "                        <th id=\"T_2cb1573c_7db6_11ea_ab10_88e9fe86cb66level0_row1\" class=\"row_heading level0 row1\" >Cans of beer sold</th>\n",
       "                        <td id=\"T_2cb1573c_7db6_11ea_ab10_88e9fe86cb66row1_col0\" class=\"data row1 col0\" >0.93</td>\n",
       "                        <td id=\"T_2cb1573c_7db6_11ea_ab10_88e9fe86cb66row1_col1\" class=\"data row1 col1\" >1</td>\n",
       "            </tr>\n",
       "    </tbody></table>"
      ],
      "text/plain": [
       "<pandas.io.formats.style.Styler at 0x10f8b66d8>"
      ]
     },
     "execution_count": 6,
     "metadata": {},
     "output_type": "execute_result"
    }
   ],
   "source": [
    "corr.style.background_gradient(cmap = 'coolwarm').set_precision(2)"
   ]
  },
  {
   "cell_type": "markdown",
   "metadata": {},
   "source": [
    "Play around with the arguments that are passed to both functions and see what works best for you. \n",
    "\n",
    "> For example: I'm going to use the default color map by not passing in any argument to the `background_gradient()` method and changing the `set_precision()` argument to 1 to observe the difference in the output.\n",
    "\n",
    "**Note**: The `set_precision()` method will throw an error if no arguments are passed to it."
   ]
  },
  {
   "cell_type": "code",
   "execution_count": 7,
   "metadata": {},
   "outputs": [
    {
     "data": {
      "text/html": [
       "<style  type=\"text/css\" >\n",
       "    #T_318d2d44_7db6_11ea_ab10_88e9fe86cb66row0_col0 {\n",
       "            background-color:  #023858;\n",
       "            color:  #f1f1f1;\n",
       "        }    #T_318d2d44_7db6_11ea_ab10_88e9fe86cb66row0_col1 {\n",
       "            background-color:  #fff7fb;\n",
       "            color:  #000000;\n",
       "        }    #T_318d2d44_7db6_11ea_ab10_88e9fe86cb66row1_col0 {\n",
       "            background-color:  #fff7fb;\n",
       "            color:  #000000;\n",
       "        }    #T_318d2d44_7db6_11ea_ab10_88e9fe86cb66row1_col1 {\n",
       "            background-color:  #023858;\n",
       "            color:  #f1f1f1;\n",
       "        }</style><table id=\"T_318d2d44_7db6_11ea_ab10_88e9fe86cb66\" ><thead>    <tr>        <th class=\"blank level0\" ></th>        <th class=\"col_heading level0 col0\" >Temperature</th>        <th class=\"col_heading level0 col1\" >Cans of beer sold</th>    </tr></thead><tbody>\n",
       "                <tr>\n",
       "                        <th id=\"T_318d2d44_7db6_11ea_ab10_88e9fe86cb66level0_row0\" class=\"row_heading level0 row0\" >Temperature</th>\n",
       "                        <td id=\"T_318d2d44_7db6_11ea_ab10_88e9fe86cb66row0_col0\" class=\"data row0 col0\" >1</td>\n",
       "                        <td id=\"T_318d2d44_7db6_11ea_ab10_88e9fe86cb66row0_col1\" class=\"data row0 col1\" >0.9</td>\n",
       "            </tr>\n",
       "            <tr>\n",
       "                        <th id=\"T_318d2d44_7db6_11ea_ab10_88e9fe86cb66level0_row1\" class=\"row_heading level0 row1\" >Cans of beer sold</th>\n",
       "                        <td id=\"T_318d2d44_7db6_11ea_ab10_88e9fe86cb66row1_col0\" class=\"data row1 col0\" >0.9</td>\n",
       "                        <td id=\"T_318d2d44_7db6_11ea_ab10_88e9fe86cb66row1_col1\" class=\"data row1 col1\" >1</td>\n",
       "            </tr>\n",
       "    </tbody></table>"
      ],
      "text/plain": [
       "<pandas.io.formats.style.Styler at 0x10f8b6630>"
      ]
     },
     "execution_count": 7,
     "metadata": {},
     "output_type": "execute_result"
    }
   ],
   "source": [
    "corr.style.background_gradient().set_precision(1)"
   ]
  },
  {
   "cell_type": "markdown",
   "metadata": {},
   "source": [
    "### Bar Plot\n",
    "\n",
    "Another extremely powerful technique to perform bivariate analysis is the bar plot.\n",
    "\n",
    "> Bar plots use height, the same way that heat maps use color, in order to represent data. It depicts the relationship between a numerical and a categorical variable wherein a numerical variable is plotted along the Y-axis against each discrete category of the categorical variable along the X-axis.\n",
    "\n",
    "In our case, we are interested to see how many _Cans of beer sold_ every _Year_. Read more about bar plots [here](https://pandas.pydata.org/docs/reference/api/pandas.DataFrame.plot.bar.html)."
   ]
  },
  {
   "cell_type": "code",
   "execution_count": 19,
   "metadata": {},
   "outputs": [
    {
     "data": {
      "text/plain": [
       "<matplotlib.axes._subplots.AxesSubplot at 0x1156060b8>"
      ]
     },
     "execution_count": 19,
     "metadata": {},
     "output_type": "execute_result"
    },
    {
     "data": {
      "image/png": "[encoded data removed]",
      "text/plain": [
       "<Figure size 432x288 with 1 Axes>"
      ]
     },
     "metadata": {
      "needs_background": "light"
     },
     "output_type": "display_data"
    }
   ],
   "source": [
    "df.plot.bar(x='Year', y='Cans of beer sold')"
   ]
  },
  {
   "cell_type": "markdown",
   "metadata": {},
   "source": [
    "#### Output explained:\n",
    "\n",
    "This was clearly not the output we were after! What happened here was all 37 rows of _Year_ were plotted against _Cans of beer sold_. What we need instead is some sort of grouping operation where we can group together the total number of beer cans for every year. \n",
    "\n",
    "> Pandas to the rescue again, this time with the `groupby`() method.\n",
    "\n",
    "We're going to take a look at `groupby()` in more detail in the Adult Pandas course but all you need to understand for now is: \n",
    "- we group our data by _Year_\n",
    "- sum up all the values of _Cans of beer sold_ for each grouping\n",
    "- assign our calculation to a variable _grouped_\n",
    "- run the `plot.bar()` method on _grouped_ to give us the intended output\n",
    "\n",
    "**Note:** Replacing the `bar()` method with `barh()` creates a horizontal bar plot. Try it!"
   ]
  },
  {
   "cell_type": "code",
   "execution_count": 33,
   "metadata": {},
   "outputs": [
    {
     "data": {
      "text/plain": [
       "<matplotlib.axes._subplots.AxesSubplot at 0x117ff9ef0>"
      ]
     },
     "execution_count": 33,
     "metadata": {},
     "output_type": "execute_result"
    },
    {
     "data": {
      "image/png": "[encoded data removed]",
      "text/plain": [
       "<Figure size 432x288 with 1 Axes>"
      ]
     },
     "metadata": {
      "needs_background": "light"
     },
     "output_type": "display_data"
    }
   ],
   "source": [
    "grouped = df.groupby('Year').sum()['Cans of beer sold']\n",
    "grouped.plot.bar()"
   ]
  },
  {
   "cell_type": "markdown",
   "metadata": {},
   "source": [
    "### Scatter Plot\n",
    "\n",
    "> Another technique for bivariate analysis, scatter plots are so called because they represent the 2 numerical variables as axes (X and Y axis) and plot each data point between the 2 variables as a dot. \n",
    "\n",
    "Read more about scatter plots [here](https://pandas.pydata.org/pandas-docs/stable/reference/api/pandas.DataFrame.plot.scatter.html). \n",
    "\n",
    "In our case, we create a scatter plot between _Temperature_ and _Cans of beer sold_."
   ]
  },
  {
   "cell_type": "code",
   "execution_count": 52,
   "metadata": {},
   "outputs": [
    {
     "data": {
      "text/plain": [
       "<matplotlib.axes._subplots.AxesSubplot at 0x1230e35c0>"
      ]
     },
     "execution_count": 52,
     "metadata": {},
     "output_type": "execute_result"
    },
    {
     "data": {
      "image/png": "[encoded data removed]",
      "text/plain": [
       "<Figure size 432x288 with 1 Axes>"
      ]
     },
     "metadata": {
      "needs_background": "light"
     },
     "output_type": "display_data"
    }
   ],
   "source": [
    "df.plot.scatter(x = 'Temperature', y = 'Cans of beer sold')"
   ]
  },
  {
   "cell_type": "markdown",
   "metadata": {},
   "source": [
    "#### Output explained:\n",
    "\n",
    "There is a clear upward trend in the data. The _Cans of beer sold_ not only increase as the _Temperature_ increases (as we saw using correlation) but the increase is almost linear! That's an extremely valuable insight since we can optimize our production of beer based on what we know now! And let's face it, no one wants beer to go to waste! "
   ]
  },
  {
   "cell_type": "markdown",
   "metadata": {},
   "source": [
    "## Conclusion\n",
    "\n",
    "This amazing recommendation calls for a beer in itself! And marks the end of the Baby Pandas course. In order to save our progress, we're going to export the DataFrame to a CSV file using the `to_csv()` method. This is good practice each time you are done working with a piece of code that has manipulated your data in any way.\n",
    "\n",
    "In our next course, we'll start by importing this new CSV file to continue exploring and learning about more interesting things Pandas can do!\n",
    "\n",
    "And as a final note, the command below creates a CSV file called 'Updated Cans of Beer.csv' in the folder from where you are running this Jupyter Notebbok. "
   ]
  },
  {
   "cell_type": "code",
   "execution_count": 10,
   "metadata": {},
   "outputs": [],
   "source": [
    "df.to_csv('Updated Cans of Beer.csv')"
   ]
  },
  {
   "cell_type": "markdown",
   "metadata": {},
   "source": [
    "As a sanity check, open this CSV file and make sure that the rows and columns look correct. Everything look okay?\n",
    "\n",
    "> The first thing you might observe is that an extra column has been added, having no name and containing values from 0 to 36. This seems like an  index column has been added to the DataFrame which is not required.\n",
    "\n",
    "Updating our command to look like the one below will solve the problem. It'll also overwrite our CSV so we don't have to dig around in our folder to figure out which is the correct file. "
   ]
  },
  {
   "cell_type": "code",
   "execution_count": 11,
   "metadata": {},
   "outputs": [],
   "source": [
    "df.to_csv('Updated Cans of Beer.csv', index=False)"
   ]
  }
 ],
 "metadata": {
  "kernelspec": {
   "display_name": "Python 3.7.0 64-bit",
   "language": "python",
   "name": "python37064bitf6c2ee8368cf48f1bd48492bafd995f0"
  },
  "language_info": {
   "codemirror_mode": {
    "name": "ipython",
    "version": 3
   },
   "file_extension": ".py",
   "mimetype": "text/x-python",
   "name": "python",
   "nbconvert_exporter": "python",
   "pygments_lexer": "ipython3",
   "version": "3.7.0"
  }
 },
 "nbformat": 4,
 "nbformat_minor": 2
}
