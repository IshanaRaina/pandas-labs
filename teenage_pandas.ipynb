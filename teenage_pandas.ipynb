{
 "cells": [
  {
   "cell_type": "markdown",
   "metadata": {},
   "source": [
    "# Teenage Pandas\n",
    "In this intermediate course on Pandas, we're going to continue analyzing our beer data. This is intentional so as to allow you to clearly see how we have increased the complexity in the data preprocessing and analysis here as compared to the baby_pandas course. "
   ]
  },
  {
   "cell_type": "markdown",
   "metadata": {},
   "source": [
    "## Getting Started\n",
    "Let's start with the basics.\n",
    "- Import statements\n",
    "- Loading the data into a Pandas DataFrame\n",
    "- Observing the first 5 values of the DataFrame\n",
    "- Observing the details of the DataFrame using the `info()` method."
   ]
  },
  {
   "cell_type": "code",
   "execution_count": 2,
   "metadata": {},
   "outputs": [],
   "source": [
    "import pandas as pd\n",
    "import matplotlib.pyplot as plt\n",
    "%matplotlib inline"
   ]
  },
  {
   "cell_type": "code",
   "execution_count": 3,
   "metadata": {},
   "outputs": [],
   "source": [
    "df = pd.read_csv('Updated Cans of Beer.csv')"
   ]
  },
  {
   "cell_type": "code",
   "execution_count": 4,
   "metadata": {},
   "outputs": [
    {
     "data": {
      "text/html": [
       "<div>\n",
       "<style scoped>\n",
       "    .dataframe tbody tr th:only-of-type {\n",
       "        vertical-align: middle;\n",
       "    }\n",
       "\n",
       "    .dataframe tbody tr th {\n",
       "        vertical-align: top;\n",
       "    }\n",
       "\n",
       "    .dataframe thead th {\n",
       "        text-align: right;\n",
       "    }\n",
       "</style>\n",
       "<table border=\"1\" class=\"dataframe\">\n",
       "  <thead>\n",
       "    <tr style=\"text-align: right;\">\n",
       "      <th></th>\n",
       "      <th>Date</th>\n",
       "      <th>Year</th>\n",
       "      <th>Temperature</th>\n",
       "      <th>Cans of beer sold</th>\n",
       "    </tr>\n",
       "  </thead>\n",
       "  <tbody>\n",
       "    <tr>\n",
       "      <th>0</th>\n",
       "      <td>1-Jun</td>\n",
       "      <td>2010</td>\n",
       "      <td>71</td>\n",
       "      <td>9150</td>\n",
       "    </tr>\n",
       "    <tr>\n",
       "      <th>1</th>\n",
       "      <td>20-Jun</td>\n",
       "      <td>2010</td>\n",
       "      <td>81</td>\n",
       "      <td>10084</td>\n",
       "    </tr>\n",
       "    <tr>\n",
       "      <th>2</th>\n",
       "      <td>12-Jul</td>\n",
       "      <td>2010</td>\n",
       "      <td>71</td>\n",
       "      <td>9242</td>\n",
       "    </tr>\n",
       "    <tr>\n",
       "      <th>3</th>\n",
       "      <td>28-Jul</td>\n",
       "      <td>2010</td>\n",
       "      <td>83</td>\n",
       "      <td>10361</td>\n",
       "    </tr>\n",
       "    <tr>\n",
       "      <th>4</th>\n",
       "      <td>3-Aug</td>\n",
       "      <td>2010</td>\n",
       "      <td>65</td>\n",
       "      <td>8829</td>\n",
       "    </tr>\n",
       "  </tbody>\n",
       "</table>\n",
       "</div>"
      ],
      "text/plain": [
       "     Date  Year  Temperature  Cans of beer sold\n",
       "0   1-Jun  2010           71               9150\n",
       "1  20-Jun  2010           81              10084\n",
       "2  12-Jul  2010           71               9242\n",
       "3  28-Jul  2010           83              10361\n",
       "4   3-Aug  2010           65               8829"
      ]
     },
     "execution_count": 4,
     "metadata": {},
     "output_type": "execute_result"
    }
   ],
   "source": [
    "df.head()"
   ]
  },
  {
   "cell_type": "code",
   "execution_count": 5,
   "metadata": {},
   "outputs": [
    {
     "name": "stdout",
     "output_type": "stream",
     "text": [
      "<class 'pandas.core.frame.DataFrame'>\n",
      "RangeIndex: 37 entries, 0 to 36\n",
      "Data columns (total 4 columns):\n",
      "Date                 37 non-null object\n",
      "Year                 37 non-null int64\n",
      "Temperature          37 non-null int64\n",
      "Cans of beer sold    37 non-null int64\n",
      "dtypes: int64(3), object(1)\n",
      "memory usage: 1.3+ KB\n"
     ]
    }
   ],
   "source": [
    "df.info()"
   ]
  },
  {
   "cell_type": "markdown",
   "metadata": {},
   "source": [
    "### Something's not right\n",
    "\n",
    "The updated CSV file was supposed to hold our manipulated DataFrame but on observing the output of the `info()` method, it looks just like our original DataFrame! \n",
    "\n",
    "What happened?\n",
    "\n",
    "> Even though _Year_ was type cast as a `category` in Pandas, there's nothing like a categorical datatype in CSV files. Therefore, on loading the CSV into Pandas, we lost the type casting that we had performed. This just goes to show why CSV files or even Excel spreadsheets are not a good choice when analysing data. Libraries like Pandas are so popular for a reason!\n",
    "\n",
    "Let's perform our _Year_ type casting once again. "
   ]
  },
  {
   "cell_type": "code",
   "execution_count": 6,
   "metadata": {},
   "outputs": [],
   "source": [
    "df['Year'] = df['Year'].astype('category')"
   ]
  },
  {
   "cell_type": "markdown",
   "metadata": {},
   "source": [
    "## Data Preprocessing\n",
    "We performed some interesting EDA in the previous course and even scratched the surface of Data Preprocessing when we converted _Year_ into a categorical variable. \n",
    "\n",
    "One column we didn't really look at is the _Date_ column which stores the month and day values in the form of an `object`. Python offers us a more suitable datatype to handle date and time variables, known as `datetime`. The biggest advantage is that we will, very easily, be able to plot a time series against this dataset to see how the sales of beer have been changing over time. \n",
    "\n",
    "So here's what we're going to do:\n",
    "\n",
    "### 1. Concat the _Year_ column to the _Date_ column, row-wise.\n",
    "\n",
    "This is done so that we have a single column containing the day, month and year.\n",
    "\n",
    "> For example, \n",
    "\n",
    "Date | Year | New Date\n",
    "--- | --- | ---\n",
    "1-Jun | 2010 | 1-Jun-2010\n",
    "20-Jun | 2010 | 20-Jun-2010\n",
    "\n",
    "Joining 2 columns in Pandas is as simple as putting a plus (+) sign between them! \n",
    "\n",
    "**Note**: This only works if both columns are of the same datatype therefore we first convert _Year_ into an `object` so that it matches the `object` datatype of _Date_ and then perform the concatenation of both columns.\n",
    "\n",
    "**Also note**: Syntactically, `astype()` takes the argument `str`, but on running `info()` we observe that the datatype of _New Date_ has been type cast as `object.`"
   ]
  },
  {
   "cell_type": "code",
   "execution_count": 7,
   "metadata": {},
   "outputs": [],
   "source": [
    "df['New date'] = df['Date'] + df['Year'].astype(str)"
   ]
  },
  {
   "cell_type": "code",
   "execution_count": 8,
   "metadata": {},
   "outputs": [
    {
     "data": {
      "text/html": [
       "<div>\n",
       "<style scoped>\n",
       "    .dataframe tbody tr th:only-of-type {\n",
       "        vertical-align: middle;\n",
       "    }\n",
       "\n",
       "    .dataframe tbody tr th {\n",
       "        vertical-align: top;\n",
       "    }\n",
       "\n",
       "    .dataframe thead th {\n",
       "        text-align: right;\n",
       "    }\n",
       "</style>\n",
       "<table border=\"1\" class=\"dataframe\">\n",
       "  <thead>\n",
       "    <tr style=\"text-align: right;\">\n",
       "      <th></th>\n",
       "      <th>Date</th>\n",
       "      <th>Year</th>\n",
       "      <th>Temperature</th>\n",
       "      <th>Cans of beer sold</th>\n",
       "      <th>New date</th>\n",
       "    </tr>\n",
       "  </thead>\n",
       "  <tbody>\n",
       "    <tr>\n",
       "      <th>0</th>\n",
       "      <td>1-Jun</td>\n",
       "      <td>2010</td>\n",
       "      <td>71</td>\n",
       "      <td>9150</td>\n",
       "      <td>1-Jun2010</td>\n",
       "    </tr>\n",
       "    <tr>\n",
       "      <th>1</th>\n",
       "      <td>20-Jun</td>\n",
       "      <td>2010</td>\n",
       "      <td>81</td>\n",
       "      <td>10084</td>\n",
       "      <td>20-Jun2010</td>\n",
       "    </tr>\n",
       "    <tr>\n",
       "      <th>2</th>\n",
       "      <td>12-Jul</td>\n",
       "      <td>2010</td>\n",
       "      <td>71</td>\n",
       "      <td>9242</td>\n",
       "      <td>12-Jul2010</td>\n",
       "    </tr>\n",
       "    <tr>\n",
       "      <th>3</th>\n",
       "      <td>28-Jul</td>\n",
       "      <td>2010</td>\n",
       "      <td>83</td>\n",
       "      <td>10361</td>\n",
       "      <td>28-Jul2010</td>\n",
       "    </tr>\n",
       "    <tr>\n",
       "      <th>4</th>\n",
       "      <td>3-Aug</td>\n",
       "      <td>2010</td>\n",
       "      <td>65</td>\n",
       "      <td>8829</td>\n",
       "      <td>3-Aug2010</td>\n",
       "    </tr>\n",
       "  </tbody>\n",
       "</table>\n",
       "</div>"
      ],
      "text/plain": [
       "     Date  Year  Temperature  Cans of beer sold    New date\n",
       "0   1-Jun  2010           71               9150   1-Jun2010\n",
       "1  20-Jun  2010           81              10084  20-Jun2010\n",
       "2  12-Jul  2010           71               9242  12-Jul2010\n",
       "3  28-Jul  2010           83              10361  28-Jul2010\n",
       "4   3-Aug  2010           65               8829   3-Aug2010"
      ]
     },
     "execution_count": 8,
     "metadata": {},
     "output_type": "execute_result"
    }
   ],
   "source": [
    "df.head()"
   ]
  },
  {
   "cell_type": "code",
   "execution_count": 9,
   "metadata": {},
   "outputs": [
    {
     "name": "stdout",
     "output_type": "stream",
     "text": [
      "<class 'pandas.core.frame.DataFrame'>\n",
      "RangeIndex: 37 entries, 0 to 36\n",
      "Data columns (total 5 columns):\n",
      "Date                 37 non-null object\n",
      "Year                 37 non-null category\n",
      "Temperature          37 non-null int64\n",
      "Cans of beer sold    37 non-null int64\n",
      "New date             37 non-null object\n",
      "dtypes: category(1), int64(2), object(2)\n",
      "memory usage: 1.5+ KB\n"
     ]
    }
   ],
   "source": [
    "df.info()"
   ]
  },
  {
   "cell_type": "markdown",
   "metadata": {},
   "source": [
    "### 2. Type cast this column as `datetime`.\n",
    "\n",
    "Pandas offers a method known as `to_datetime()`, which type casts a given string as a `datetime` object. We're going to pass it 2 arguments:\n",
    "- the string that needs to be type cast. In our case: `df['New date']`\n",
    "- the format that the string is in so that the interpreter can understand which part of the string is the day, which part is the month and which part is the year.\n",
    "\n",
    "Read more about the method [here](https://pandas.pydata.org/pandas-docs/stable/reference/api/pandas.to_datetime.html).\n",
    "\n",
    "> In our case, the _New date_ looks like **1-Jun2010**, meaning it has the **day**, followed by a **hyphen**, followed by the **abbreviated month in letters**, followed by the **year in 4 digits**. \n",
    "\n",
    "Referencing the below table, _New date_ can be mapped as `'%d-%b%Y'`:\n",
    "\n",
    "Code | Meaning | Example\n",
    "--- | --- | ---\n",
    "%d | Day of the month as a zero-padded decimal number. | 30\n",
    "%b | Month as locale’s abbreviated name. | Sep\n",
    "%B | Month as locale’s full name. | September\n",
    "%m | Month as a zero-padded decimal number. | 09\n",
    "%y | Year without century as a zero-padded decimal number. | 13\n",
    "%Y | Year with century as a decimal number. | 2013\n",
    "\n",
    "Refer to the full table [here](https://strftime.org/)."
   ]
  },
  {
   "cell_type": "code",
   "execution_count": 10,
   "metadata": {},
   "outputs": [],
   "source": [
    "df['New date'] = pd.to_datetime(df['New date'], format = '%d-%b%Y')"
   ]
  },
  {
   "cell_type": "code",
   "execution_count": 11,
   "metadata": {},
   "outputs": [
    {
     "data": {
      "text/html": [
       "<div>\n",
       "<style scoped>\n",
       "    .dataframe tbody tr th:only-of-type {\n",
       "        vertical-align: middle;\n",
       "    }\n",
       "\n",
       "    .dataframe tbody tr th {\n",
       "        vertical-align: top;\n",
       "    }\n",
       "\n",
       "    .dataframe thead th {\n",
       "        text-align: right;\n",
       "    }\n",
       "</style>\n",
       "<table border=\"1\" class=\"dataframe\">\n",
       "  <thead>\n",
       "    <tr style=\"text-align: right;\">\n",
       "      <th></th>\n",
       "      <th>Date</th>\n",
       "      <th>Year</th>\n",
       "      <th>Temperature</th>\n",
       "      <th>Cans of beer sold</th>\n",
       "      <th>New date</th>\n",
       "    </tr>\n",
       "  </thead>\n",
       "  <tbody>\n",
       "    <tr>\n",
       "      <th>0</th>\n",
       "      <td>1-Jun</td>\n",
       "      <td>2010</td>\n",
       "      <td>71</td>\n",
       "      <td>9150</td>\n",
       "      <td>2010-06-01</td>\n",
       "    </tr>\n",
       "    <tr>\n",
       "      <th>1</th>\n",
       "      <td>20-Jun</td>\n",
       "      <td>2010</td>\n",
       "      <td>81</td>\n",
       "      <td>10084</td>\n",
       "      <td>2010-06-20</td>\n",
       "    </tr>\n",
       "    <tr>\n",
       "      <th>2</th>\n",
       "      <td>12-Jul</td>\n",
       "      <td>2010</td>\n",
       "      <td>71</td>\n",
       "      <td>9242</td>\n",
       "      <td>2010-07-12</td>\n",
       "    </tr>\n",
       "    <tr>\n",
       "      <th>3</th>\n",
       "      <td>28-Jul</td>\n",
       "      <td>2010</td>\n",
       "      <td>83</td>\n",
       "      <td>10361</td>\n",
       "      <td>2010-07-28</td>\n",
       "    </tr>\n",
       "    <tr>\n",
       "      <th>4</th>\n",
       "      <td>3-Aug</td>\n",
       "      <td>2010</td>\n",
       "      <td>65</td>\n",
       "      <td>8829</td>\n",
       "      <td>2010-08-03</td>\n",
       "    </tr>\n",
       "  </tbody>\n",
       "</table>\n",
       "</div>"
      ],
      "text/plain": [
       "     Date  Year  Temperature  Cans of beer sold   New date\n",
       "0   1-Jun  2010           71               9150 2010-06-01\n",
       "1  20-Jun  2010           81              10084 2010-06-20\n",
       "2  12-Jul  2010           71               9242 2010-07-12\n",
       "3  28-Jul  2010           83              10361 2010-07-28\n",
       "4   3-Aug  2010           65               8829 2010-08-03"
      ]
     },
     "execution_count": 11,
     "metadata": {},
     "output_type": "execute_result"
    }
   ],
   "source": [
    "df.head()"
   ]
  },
  {
   "cell_type": "markdown",
   "metadata": {},
   "source": [
    "#### Output explained:\n",
    "Observe the difference in how _New date_ looks as compared to earlier. It now has the format **2010-06-01**. But where did that format come from? We didn't specify anything like it! \n",
    "> The `to_datetime()` method type casts into the standard Pandas `datetime` format, where the **4 digit year** is followed by a **hyphen** followed by the **2 digit month** followed by another **hyphen** followed by the **2 digit day**. "
   ]
  },
  {
   "cell_type": "code",
   "execution_count": 12,
   "metadata": {},
   "outputs": [
    {
     "name": "stdout",
     "output_type": "stream",
     "text": [
      "<class 'pandas.core.frame.DataFrame'>\n",
      "RangeIndex: 37 entries, 0 to 36\n",
      "Data columns (total 5 columns):\n",
      "Date                 37 non-null object\n",
      "Year                 37 non-null category\n",
      "Temperature          37 non-null int64\n",
      "Cans of beer sold    37 non-null int64\n",
      "New date             37 non-null datetime64[ns]\n",
      "dtypes: category(1), datetime64[ns](1), int64(2), object(1)\n",
      "memory usage: 1.5+ KB\n"
     ]
    }
   ],
   "source": [
    "df.info()"
   ]
  },
  {
   "cell_type": "markdown",
   "metadata": {},
   "source": [
    "#### Output explained:\n",
    "\n",
    "_New date_ now has the datatype `datetime64[ns]`. Pandas internally stores the date using nanosecond `[ns]` precision."
   ]
  },
  {
   "cell_type": "markdown",
   "metadata": {},
   "source": [
    "### 3. Store the columns that are not required in separate variables.\n",
    "\n",
    "Now that we have our _New date_ column just the way we want it, we don't have any use for our old _Date_ and _Year_ columns. So, for ease for use and to keep our DataFrame as minimal as possible, we're going to store the unnecessary columns separately and remove them from the DataFrame. \n",
    "\n",
    "> In the previous course, it was mentioned that we'd use the dot notation to access individual columns of a DataFrame - let's use it now! "
   ]
  },
  {
   "cell_type": "code",
   "execution_count": 13,
   "metadata": {},
   "outputs": [],
   "source": [
    "date_var = df.Date"
   ]
  },
  {
   "cell_type": "code",
   "execution_count": 14,
   "metadata": {},
   "outputs": [
    {
     "data": {
      "text/plain": [
       "0      1-Jun\n",
       "1     20-Jun\n",
       "2     12-Jul\n",
       "3     28-Jul\n",
       "4      3-Aug\n",
       "5     16-Aug\n",
       "6     29-Aug\n",
       "7      2-Sep\n",
       "8     19-Sep\n",
       "9      5-Oct\n",
       "10     1-Jun\n",
       "11    20-Jun\n",
       "12    20-Jun\n",
       "13    12-Jul\n",
       "14    28-Jul\n",
       "15     3-Aug\n",
       "16    16-Aug\n",
       "17     2-Sep\n",
       "18    19-Sep\n",
       "19     5-Oct\n",
       "20     1-Jun\n",
       "21    20-Jun\n",
       "22    12-Jul\n",
       "23    28-Jul\n",
       "24     3-Aug\n",
       "25    16-Aug\n",
       "26     2-Sep\n",
       "27    19-Sep\n",
       "28     5-Oct\n",
       "29     1-Jun\n",
       "30    20-Jun\n",
       "31    20-Jun\n",
       "32    12-Jul\n",
       "33     3-Aug\n",
       "34    16-Aug\n",
       "35     2-Sep\n",
       "36     5-Oct\n",
       "Name: Date, dtype: object"
      ]
     },
     "execution_count": 14,
     "metadata": {},
     "output_type": "execute_result"
    }
   ],
   "source": [
    "date_var"
   ]
  },
  {
   "cell_type": "markdown",
   "metadata": {},
   "source": [
    "#### Output explained: \n",
    "\n",
    "As we can see, our date variable `date_var`, holds all 37 dates from our DataFrame which are of `object` datatype. \n",
    "\n",
    "We're already familiar with a Pandas DataFrame containing rows as well as columns but what structure does Pandas use when storing a single column? \n",
    "\n",
    "> Use the in-built `type()` function to find the type of structure for `date_var`."
   ]
  },
  {
   "cell_type": "code",
   "execution_count": 15,
   "metadata": {},
   "outputs": [
    {
     "data": {
      "text/plain": [
       "pandas.core.series.Series"
      ]
     },
     "execution_count": 15,
     "metadata": {},
     "output_type": "execute_result"
    }
   ],
   "source": [
    "type(date_var)"
   ]
  },
  {
   "cell_type": "markdown",
   "metadata": {},
   "source": [
    "### Pandas Series\n",
    "Pandas offers a structure to hold one-dimensional data known as a Series. A Pandas Series can be thought of as a single column from an Excel spreadsheet, capable of holding data of any datatype (strings, integers, floats, datetimes, categorical values etc). \n",
    "\n",
    "A Series can have a name as well as an index.\n",
    "\n",
    "**Note:** In essence, a DataFrame is made up of multiple Series which are glued together to form a tabular structure!\n",
    "\n",
    "> Now that you know what a Series is, let's store the _Year_ column in a Series too so that we can eventually remove _Date_ and _Year_ from the DataFrame. "
   ]
  },
  {
   "cell_type": "code",
   "execution_count": 16,
   "metadata": {},
   "outputs": [],
   "source": [
    "year_var = df.Year"
   ]
  },
  {
   "cell_type": "code",
   "execution_count": 17,
   "metadata": {},
   "outputs": [
    {
     "data": {
      "text/plain": [
       "0     2010\n",
       "1     2010\n",
       "2     2010\n",
       "3     2010\n",
       "4     2010\n",
       "5     2010\n",
       "6     2010\n",
       "7     2010\n",
       "8     2010\n",
       "9     2010\n",
       "10    2011\n",
       "11    2011\n",
       "12    2011\n",
       "13    2011\n",
       "14    2011\n",
       "15    2011\n",
       "16    2011\n",
       "17    2011\n",
       "18    2011\n",
       "19    2011\n",
       "20    2012\n",
       "21    2012\n",
       "22    2012\n",
       "23    2012\n",
       "24    2012\n",
       "25    2012\n",
       "26    2012\n",
       "27    2012\n",
       "28    2012\n",
       "29    2013\n",
       "30    2013\n",
       "31    2013\n",
       "32    2013\n",
       "33    2013\n",
       "34    2013\n",
       "35    2013\n",
       "36    2013\n",
       "Name: Year, dtype: category\n",
       "Categories (4, int64): [2010, 2011, 2012, 2013]"
      ]
     },
     "execution_count": 17,
     "metadata": {},
     "output_type": "execute_result"
    }
   ],
   "source": [
    "year_var"
   ]
  },
  {
   "cell_type": "code",
   "execution_count": 18,
   "metadata": {},
   "outputs": [
    {
     "data": {
      "text/plain": [
       "pandas.core.series.Series"
      ]
     },
     "execution_count": 18,
     "metadata": {},
     "output_type": "execute_result"
    }
   ],
   "source": [
    "type(year_var)"
   ]
  },
  {
   "cell_type": "markdown",
   "metadata": {},
   "source": [
    "### 4. Remove the unnecessary columns from the DataFrame.\n",
    "\n",
    "In order to remove the columns from the DataFrame, we use the `drop()` method, which takes 2 arguments in our case:\n",
    "- **labels:** the name of the labels to remove (either index labels or column labels)\n",
    "    - Since we have to drop 2 columns, we pass them in as a list\n",
    "- **axis:** how the removal should take place - row-wise or column-wise\n",
    "    - 0 stands for 'index' (row-wise removal)\n",
    "    - 1 stands for 'columns' (column-wise removal)\n",
    "\n",
    "Read more about the method [here](https://pandas.pydata.org/pandas-docs/stable/reference/api/pandas.DataFrame.drop.html). "
   ]
  },
  {
   "cell_type": "code",
   "execution_count": 19,
   "metadata": {},
   "outputs": [],
   "source": [
    "df = df.drop(labels = ['Date', 'Year'], axis = 1)"
   ]
  },
  {
   "cell_type": "code",
   "execution_count": 20,
   "metadata": {},
   "outputs": [
    {
     "data": {
      "text/html": [
       "<div>\n",
       "<style scoped>\n",
       "    .dataframe tbody tr th:only-of-type {\n",
       "        vertical-align: middle;\n",
       "    }\n",
       "\n",
       "    .dataframe tbody tr th {\n",
       "        vertical-align: top;\n",
       "    }\n",
       "\n",
       "    .dataframe thead th {\n",
       "        text-align: right;\n",
       "    }\n",
       "</style>\n",
       "<table border=\"1\" class=\"dataframe\">\n",
       "  <thead>\n",
       "    <tr style=\"text-align: right;\">\n",
       "      <th></th>\n",
       "      <th>Temperature</th>\n",
       "      <th>Cans of beer sold</th>\n",
       "      <th>New date</th>\n",
       "    </tr>\n",
       "  </thead>\n",
       "  <tbody>\n",
       "    <tr>\n",
       "      <th>0</th>\n",
       "      <td>71</td>\n",
       "      <td>9150</td>\n",
       "      <td>2010-06-01</td>\n",
       "    </tr>\n",
       "    <tr>\n",
       "      <th>1</th>\n",
       "      <td>81</td>\n",
       "      <td>10084</td>\n",
       "      <td>2010-06-20</td>\n",
       "    </tr>\n",
       "    <tr>\n",
       "      <th>2</th>\n",
       "      <td>71</td>\n",
       "      <td>9242</td>\n",
       "      <td>2010-07-12</td>\n",
       "    </tr>\n",
       "    <tr>\n",
       "      <th>3</th>\n",
       "      <td>83</td>\n",
       "      <td>10361</td>\n",
       "      <td>2010-07-28</td>\n",
       "    </tr>\n",
       "    <tr>\n",
       "      <th>4</th>\n",
       "      <td>65</td>\n",
       "      <td>8829</td>\n",
       "      <td>2010-08-03</td>\n",
       "    </tr>\n",
       "  </tbody>\n",
       "</table>\n",
       "</div>"
      ],
      "text/plain": [
       "   Temperature  Cans of beer sold   New date\n",
       "0           71               9150 2010-06-01\n",
       "1           81              10084 2010-06-20\n",
       "2           71               9242 2010-07-12\n",
       "3           83              10361 2010-07-28\n",
       "4           65               8829 2010-08-03"
      ]
     },
     "execution_count": 20,
     "metadata": {},
     "output_type": "execute_result"
    }
   ],
   "source": [
    "df.head()"
   ]
  },
  {
   "cell_type": "code",
   "execution_count": 21,
   "metadata": {},
   "outputs": [
    {
     "name": "stdout",
     "output_type": "stream",
     "text": [
      "<class 'pandas.core.frame.DataFrame'>\n",
      "RangeIndex: 37 entries, 0 to 36\n",
      "Data columns (total 3 columns):\n",
      "Temperature          37 non-null int64\n",
      "Cans of beer sold    37 non-null int64\n",
      "New date             37 non-null datetime64[ns]\n",
      "dtypes: datetime64[ns](1), int64(2)\n",
      "memory usage: 1016.0 bytes\n"
     ]
    }
   ],
   "source": [
    "df.info()"
   ]
  },
  {
   "cell_type": "markdown",
   "metadata": {},
   "source": [
    "### 5. Rename columns.\n",
    "\n",
    "Renaming columns in Pandas is as simple as `rename()`! This method is supplied the `columns` argument in the form of a dictionary where the current column name makes up the key and the new column name makes up the value. \n",
    "\n",
    "Read more about the method [here](https://pandas.pydata.org/pandas-docs/stable/reference/api/pandas.DataFrame.rename.html). "
   ]
  },
  {
   "cell_type": "code",
   "execution_count": 22,
   "metadata": {},
   "outputs": [],
   "source": [
    "df = df.rename(columns = {\"Cans of beer sold\": \"Sales\", \"New date\": \"Date\"})"
   ]
  },
  {
   "cell_type": "code",
   "execution_count": 23,
   "metadata": {},
   "outputs": [
    {
     "data": {
      "text/html": [
       "<div>\n",
       "<style scoped>\n",
       "    .dataframe tbody tr th:only-of-type {\n",
       "        vertical-align: middle;\n",
       "    }\n",
       "\n",
       "    .dataframe tbody tr th {\n",
       "        vertical-align: top;\n",
       "    }\n",
       "\n",
       "    .dataframe thead th {\n",
       "        text-align: right;\n",
       "    }\n",
       "</style>\n",
       "<table border=\"1\" class=\"dataframe\">\n",
       "  <thead>\n",
       "    <tr style=\"text-align: right;\">\n",
       "      <th></th>\n",
       "      <th>Temperature</th>\n",
       "      <th>Sales</th>\n",
       "      <th>Date</th>\n",
       "    </tr>\n",
       "  </thead>\n",
       "  <tbody>\n",
       "    <tr>\n",
       "      <th>0</th>\n",
       "      <td>71</td>\n",
       "      <td>9150</td>\n",
       "      <td>2010-06-01</td>\n",
       "    </tr>\n",
       "    <tr>\n",
       "      <th>1</th>\n",
       "      <td>81</td>\n",
       "      <td>10084</td>\n",
       "      <td>2010-06-20</td>\n",
       "    </tr>\n",
       "    <tr>\n",
       "      <th>2</th>\n",
       "      <td>71</td>\n",
       "      <td>9242</td>\n",
       "      <td>2010-07-12</td>\n",
       "    </tr>\n",
       "    <tr>\n",
       "      <th>3</th>\n",
       "      <td>83</td>\n",
       "      <td>10361</td>\n",
       "      <td>2010-07-28</td>\n",
       "    </tr>\n",
       "    <tr>\n",
       "      <th>4</th>\n",
       "      <td>65</td>\n",
       "      <td>8829</td>\n",
       "      <td>2010-08-03</td>\n",
       "    </tr>\n",
       "  </tbody>\n",
       "</table>\n",
       "</div>"
      ],
      "text/plain": [
       "   Temperature  Sales       Date\n",
       "0           71   9150 2010-06-01\n",
       "1           81  10084 2010-06-20\n",
       "2           71   9242 2010-07-12\n",
       "3           83  10361 2010-07-28\n",
       "4           65   8829 2010-08-03"
      ]
     },
     "execution_count": 23,
     "metadata": {},
     "output_type": "execute_result"
    }
   ],
   "source": [
    "df.head()"
   ]
  },
  {
   "cell_type": "markdown",
   "metadata": {},
   "source": [
    "## Preparing for Time Series Analysis\n",
    "\n",
    "We want to plot our data as a time series - _Sales_ against _Date_ to observe how our sales change with time. Pandas makes it extremely easy to plot a time series when the following 2 conditions are met:\n",
    "\n",
    "### 1. Use a Datetime index for the data.\n",
    "Instead of having _Date_ as a separate column in our DataFrame, we want our DataFrame to be **indexed** using these datetime values. \n",
    "\n",
    "We do that using the `set_index()` method, to which we provide one argument - the column name that we want to set as the index of the DataFrame. \n",
    "\n",
    "Read more about the method [here](https://pandas.pydata.org/pandas-docs/stable/reference/api/pandas.DataFrame.set_index.html). "
   ]
  },
  {
   "cell_type": "code",
   "execution_count": 24,
   "metadata": {},
   "outputs": [],
   "source": [
    "df = df.set_index('Date')"
   ]
  },
  {
   "cell_type": "code",
   "execution_count": 25,
   "metadata": {},
   "outputs": [
    {
     "data": {
      "text/html": [
       "<div>\n",
       "<style scoped>\n",
       "    .dataframe tbody tr th:only-of-type {\n",
       "        vertical-align: middle;\n",
       "    }\n",
       "\n",
       "    .dataframe tbody tr th {\n",
       "        vertical-align: top;\n",
       "    }\n",
       "\n",
       "    .dataframe thead th {\n",
       "        text-align: right;\n",
       "    }\n",
       "</style>\n",
       "<table border=\"1\" class=\"dataframe\">\n",
       "  <thead>\n",
       "    <tr style=\"text-align: right;\">\n",
       "      <th></th>\n",
       "      <th>Temperature</th>\n",
       "      <th>Sales</th>\n",
       "    </tr>\n",
       "    <tr>\n",
       "      <th>Date</th>\n",
       "      <th></th>\n",
       "      <th></th>\n",
       "    </tr>\n",
       "  </thead>\n",
       "  <tbody>\n",
       "    <tr>\n",
       "      <th>2010-06-01</th>\n",
       "      <td>71</td>\n",
       "      <td>9150</td>\n",
       "    </tr>\n",
       "    <tr>\n",
       "      <th>2010-06-20</th>\n",
       "      <td>81</td>\n",
       "      <td>10084</td>\n",
       "    </tr>\n",
       "    <tr>\n",
       "      <th>2010-07-12</th>\n",
       "      <td>71</td>\n",
       "      <td>9242</td>\n",
       "    </tr>\n",
       "    <tr>\n",
       "      <th>2010-07-28</th>\n",
       "      <td>83</td>\n",
       "      <td>10361</td>\n",
       "    </tr>\n",
       "    <tr>\n",
       "      <th>2010-08-03</th>\n",
       "      <td>65</td>\n",
       "      <td>8829</td>\n",
       "    </tr>\n",
       "    <tr>\n",
       "      <th>2010-08-16</th>\n",
       "      <td>71</td>\n",
       "      <td>9253</td>\n",
       "    </tr>\n",
       "    <tr>\n",
       "      <th>2010-08-29</th>\n",
       "      <td>85</td>\n",
       "      <td>10713</td>\n",
       "    </tr>\n",
       "    <tr>\n",
       "      <th>2010-09-02</th>\n",
       "      <td>81</td>\n",
       "      <td>10689</td>\n",
       "    </tr>\n",
       "    <tr>\n",
       "      <th>2010-09-19</th>\n",
       "      <td>67</td>\n",
       "      <td>8884</td>\n",
       "    </tr>\n",
       "    <tr>\n",
       "      <th>2010-10-05</th>\n",
       "      <td>69</td>\n",
       "      <td>9155</td>\n",
       "    </tr>\n",
       "    <tr>\n",
       "      <th>2011-06-01</th>\n",
       "      <td>81</td>\n",
       "      <td>10369</td>\n",
       "    </tr>\n",
       "    <tr>\n",
       "      <th>2011-06-20</th>\n",
       "      <td>83</td>\n",
       "      <td>10149</td>\n",
       "    </tr>\n",
       "    <tr>\n",
       "      <th>2011-06-20</th>\n",
       "      <td>83</td>\n",
       "      <td>10450</td>\n",
       "    </tr>\n",
       "    <tr>\n",
       "      <th>2011-07-12</th>\n",
       "      <td>77</td>\n",
       "      <td>9628</td>\n",
       "    </tr>\n",
       "    <tr>\n",
       "      <th>2011-07-28</th>\n",
       "      <td>67</td>\n",
       "      <td>8735</td>\n",
       "    </tr>\n",
       "    <tr>\n",
       "      <th>2011-08-03</th>\n",
       "      <td>83</td>\n",
       "      <td>9840</td>\n",
       "    </tr>\n",
       "    <tr>\n",
       "      <th>2011-08-16</th>\n",
       "      <td>83</td>\n",
       "      <td>10246</td>\n",
       "    </tr>\n",
       "    <tr>\n",
       "      <th>2011-09-02</th>\n",
       "      <td>79</td>\n",
       "      <td>10240</td>\n",
       "    </tr>\n",
       "    <tr>\n",
       "      <th>2011-09-19</th>\n",
       "      <td>79</td>\n",
       "      <td>9914</td>\n",
       "    </tr>\n",
       "    <tr>\n",
       "      <th>2011-10-05</th>\n",
       "      <td>81</td>\n",
       "      <td>10288</td>\n",
       "    </tr>\n",
       "    <tr>\n",
       "      <th>2012-06-01</th>\n",
       "      <td>73</td>\n",
       "      <td>9445</td>\n",
       "    </tr>\n",
       "    <tr>\n",
       "      <th>2012-06-20</th>\n",
       "      <td>67</td>\n",
       "      <td>9088</td>\n",
       "    </tr>\n",
       "    <tr>\n",
       "      <th>2012-07-12</th>\n",
       "      <td>79</td>\n",
       "      <td>10169</td>\n",
       "    </tr>\n",
       "    <tr>\n",
       "      <th>2012-07-28</th>\n",
       "      <td>83</td>\n",
       "      <td>10412</td>\n",
       "    </tr>\n",
       "    <tr>\n",
       "      <th>2012-08-03</th>\n",
       "      <td>79</td>\n",
       "      <td>10065</td>\n",
       "    </tr>\n",
       "    <tr>\n",
       "      <th>2012-08-16</th>\n",
       "      <td>81</td>\n",
       "      <td>10262</td>\n",
       "    </tr>\n",
       "    <tr>\n",
       "      <th>2012-09-02</th>\n",
       "      <td>73</td>\n",
       "      <td>9625</td>\n",
       "    </tr>\n",
       "    <tr>\n",
       "      <th>2012-09-19</th>\n",
       "      <td>69</td>\n",
       "      <td>9412</td>\n",
       "    </tr>\n",
       "    <tr>\n",
       "      <th>2012-10-05</th>\n",
       "      <td>73</td>\n",
       "      <td>9840</td>\n",
       "    </tr>\n",
       "    <tr>\n",
       "      <th>2013-06-01</th>\n",
       "      <td>71</td>\n",
       "      <td>9293</td>\n",
       "    </tr>\n",
       "    <tr>\n",
       "      <th>2013-06-20</th>\n",
       "      <td>83</td>\n",
       "      <td>10214</td>\n",
       "    </tr>\n",
       "    <tr>\n",
       "      <th>2013-06-20</th>\n",
       "      <td>75</td>\n",
       "      <td>10034</td>\n",
       "    </tr>\n",
       "    <tr>\n",
       "      <th>2013-07-12</th>\n",
       "      <td>77</td>\n",
       "      <td>10215</td>\n",
       "    </tr>\n",
       "    <tr>\n",
       "      <th>2013-08-03</th>\n",
       "      <td>79</td>\n",
       "      <td>10312</td>\n",
       "    </tr>\n",
       "    <tr>\n",
       "      <th>2013-08-16</th>\n",
       "      <td>75</td>\n",
       "      <td>9719</td>\n",
       "    </tr>\n",
       "    <tr>\n",
       "      <th>2013-09-02</th>\n",
       "      <td>69</td>\n",
       "      <td>9370</td>\n",
       "    </tr>\n",
       "    <tr>\n",
       "      <th>2013-10-05</th>\n",
       "      <td>77</td>\n",
       "      <td>9976</td>\n",
       "    </tr>\n",
       "  </tbody>\n",
       "</table>\n",
       "</div>"
      ],
      "text/plain": [
       "            Temperature  Sales\n",
       "Date                          \n",
       "2010-06-01           71   9150\n",
       "2010-06-20           81  10084\n",
       "2010-07-12           71   9242\n",
       "2010-07-28           83  10361\n",
       "2010-08-03           65   8829\n",
       "2010-08-16           71   9253\n",
       "2010-08-29           85  10713\n",
       "2010-09-02           81  10689\n",
       "2010-09-19           67   8884\n",
       "2010-10-05           69   9155\n",
       "2011-06-01           81  10369\n",
       "2011-06-20           83  10149\n",
       "2011-06-20           83  10450\n",
       "2011-07-12           77   9628\n",
       "2011-07-28           67   8735\n",
       "2011-08-03           83   9840\n",
       "2011-08-16           83  10246\n",
       "2011-09-02           79  10240\n",
       "2011-09-19           79   9914\n",
       "2011-10-05           81  10288\n",
       "2012-06-01           73   9445\n",
       "2012-06-20           67   9088\n",
       "2012-07-12           79  10169\n",
       "2012-07-28           83  10412\n",
       "2012-08-03           79  10065\n",
       "2012-08-16           81  10262\n",
       "2012-09-02           73   9625\n",
       "2012-09-19           69   9412\n",
       "2012-10-05           73   9840\n",
       "2013-06-01           71   9293\n",
       "2013-06-20           83  10214\n",
       "2013-06-20           75  10034\n",
       "2013-07-12           77  10215\n",
       "2013-08-03           79  10312\n",
       "2013-08-16           75   9719\n",
       "2013-09-02           69   9370\n",
       "2013-10-05           77   9976"
      ]
     },
     "execution_count": 25,
     "metadata": {},
     "output_type": "execute_result"
    }
   ],
   "source": [
    "df"
   ]
  },
  {
   "cell_type": "code",
   "execution_count": 26,
   "metadata": {},
   "outputs": [
    {
     "name": "stdout",
     "output_type": "stream",
     "text": [
      "<class 'pandas.core.frame.DataFrame'>\n",
      "DatetimeIndex: 37 entries, 2010-06-01 to 2013-10-05\n",
      "Data columns (total 2 columns):\n",
      "Temperature    37 non-null int64\n",
      "Sales          37 non-null int64\n",
      "dtypes: int64(2)\n",
      "memory usage: 888.0 bytes\n"
     ]
    }
   ],
   "source": [
    "df.info()"
   ]
  },
  {
   "cell_type": "markdown",
   "metadata": {},
   "source": [
    "#### Output explained:\n",
    "\n",
    "Observe the difference in the output for both the `head()` and `info()` method! \n",
    "\n",
    "### Unique Index\n",
    "\n",
    "Since we have moved away from a RangeIndex to a DatetimeIndex, let's make sure all our index values are unique just as a sanity check. This may not be true for every dataset but in our case, we should not have 2 different values for _Temperature_ or _Sales_ for the same _Date_. \n",
    "\n",
    "Pandas provides a Boolean check in the form of an `is_unique` property, which as the name suggests, outputs: \n",
    "- `True` if the index values are unique\n",
    "- `False` if the index values are not unique"
   ]
  },
  {
   "cell_type": "code",
   "execution_count": 27,
   "metadata": {},
   "outputs": [
    {
     "data": {
      "text/plain": [
       "False"
      ]
     },
     "execution_count": 27,
     "metadata": {},
     "output_type": "execute_result"
    }
   ],
   "source": [
    "df.index.is_unique"
   ]
  },
  {
   "cell_type": "markdown",
   "metadata": {},
   "source": [
    "Aha! Caught the duplicate index values before it made its way into our analysis. Let's find out which index values are not unique.\n",
    "\n",
    "### Boolean Indexing/Conditional Selection\n",
    "\n",
    "Boolean Indexing is another useful feature that Pandas offers where subsets of data are selected based on the data values and not based on column names or index values. This is done by applying a filter/condition on the data values. Those values which satisfy the condition are then seen as the result. \n",
    "\n",
    "Let's use the `duplicated()` method on the index values of the DataFrame. "
   ]
  },
  {
   "cell_type": "code",
   "execution_count": 28,
   "metadata": {},
   "outputs": [
    {
     "data": {
      "text/plain": [
       "array([False, False, False, False, False, False, False, False, False,\n",
       "       False, False, False,  True, False, False, False, False, False,\n",
       "       False, False, False, False, False, False, False, False, False,\n",
       "       False, False, False, False,  True, False, False, False, False,\n",
       "       False])"
      ]
     },
     "execution_count": 28,
     "metadata": {},
     "output_type": "execute_result"
    }
   ],
   "source": [
    "df.index.duplicated()"
   ]
  },
  {
   "cell_type": "markdown",
   "metadata": {},
   "source": [
    "#### Output Explained:\n",
    "\n",
    "Observe the result:\n",
    "- It contains `True` and `False` values which means that the `duplicated()` method checked the condition (whether they were duplicates or not) and resulted in a Boolean output. \n",
    "- It contains the entire DataFrame and not a filtered output, which is too cumbersome to go through. Even if we happen to find all the `True` values correctly, we still don't know which dates are duplicates.\n",
    "\n",
    "> This is where Boolean Indexing/Conditional Selection comes into play. Using the above condition as an argument to the DataFrame, instead of as a standalone command, helps us not only filter the output to retrieve the 2 `True` values but also gives us the exact dates where the condition is `True`. \n",
    "\n",
    "In our case, we pass the argument to `df.index` and not to `df` because we're filtering on the index values of the DataFrame, not on the data values. "
   ]
  },
  {
   "cell_type": "code",
   "execution_count": 32,
   "metadata": {},
   "outputs": [
    {
     "data": {
      "text/plain": [
       "DatetimeIndex(['2011-06-20', '2013-06-20'], dtype='datetime64[ns]', name='Date', freq=None)"
      ]
     },
     "execution_count": 32,
     "metadata": {},
     "output_type": "execute_result"
    }
   ],
   "source": [
    "df.index[df.index.duplicated()]"
   ]
  },
  {
   "cell_type": "markdown",
   "metadata": {},
   "source": [
    "Let's look at our entire DataFrame again to observe these duplicates. "
   ]
  },
  {
   "cell_type": "code",
   "execution_count": 30,
   "metadata": {},
   "outputs": [
    {
     "data": {
      "text/html": [
       "<div>\n",
       "<style scoped>\n",
       "    .dataframe tbody tr th:only-of-type {\n",
       "        vertical-align: middle;\n",
       "    }\n",
       "\n",
       "    .dataframe tbody tr th {\n",
       "        vertical-align: top;\n",
       "    }\n",
       "\n",
       "    .dataframe thead th {\n",
       "        text-align: right;\n",
       "    }\n",
       "</style>\n",
       "<table border=\"1\" class=\"dataframe\">\n",
       "  <thead>\n",
       "    <tr style=\"text-align: right;\">\n",
       "      <th></th>\n",
       "      <th>Temperature</th>\n",
       "      <th>Sales</th>\n",
       "    </tr>\n",
       "    <tr>\n",
       "      <th>Date</th>\n",
       "      <th></th>\n",
       "      <th></th>\n",
       "    </tr>\n",
       "  </thead>\n",
       "  <tbody>\n",
       "    <tr>\n",
       "      <th>2010-06-01</th>\n",
       "      <td>71</td>\n",
       "      <td>9150</td>\n",
       "    </tr>\n",
       "    <tr>\n",
       "      <th>2010-06-20</th>\n",
       "      <td>81</td>\n",
       "      <td>10084</td>\n",
       "    </tr>\n",
       "    <tr>\n",
       "      <th>2010-07-12</th>\n",
       "      <td>71</td>\n",
       "      <td>9242</td>\n",
       "    </tr>\n",
       "    <tr>\n",
       "      <th>2010-07-28</th>\n",
       "      <td>83</td>\n",
       "      <td>10361</td>\n",
       "    </tr>\n",
       "    <tr>\n",
       "      <th>2010-08-03</th>\n",
       "      <td>65</td>\n",
       "      <td>8829</td>\n",
       "    </tr>\n",
       "    <tr>\n",
       "      <th>2010-08-16</th>\n",
       "      <td>71</td>\n",
       "      <td>9253</td>\n",
       "    </tr>\n",
       "    <tr>\n",
       "      <th>2010-08-29</th>\n",
       "      <td>85</td>\n",
       "      <td>10713</td>\n",
       "    </tr>\n",
       "    <tr>\n",
       "      <th>2010-09-02</th>\n",
       "      <td>81</td>\n",
       "      <td>10689</td>\n",
       "    </tr>\n",
       "    <tr>\n",
       "      <th>2010-09-19</th>\n",
       "      <td>67</td>\n",
       "      <td>8884</td>\n",
       "    </tr>\n",
       "    <tr>\n",
       "      <th>2010-10-05</th>\n",
       "      <td>69</td>\n",
       "      <td>9155</td>\n",
       "    </tr>\n",
       "    <tr>\n",
       "      <th>2011-06-01</th>\n",
       "      <td>81</td>\n",
       "      <td>10369</td>\n",
       "    </tr>\n",
       "    <tr>\n",
       "      <th>2011-06-20</th>\n",
       "      <td>83</td>\n",
       "      <td>10149</td>\n",
       "    </tr>\n",
       "    <tr>\n",
       "      <th>2011-06-20</th>\n",
       "      <td>83</td>\n",
       "      <td>10450</td>\n",
       "    </tr>\n",
       "    <tr>\n",
       "      <th>2011-07-12</th>\n",
       "      <td>77</td>\n",
       "      <td>9628</td>\n",
       "    </tr>\n",
       "    <tr>\n",
       "      <th>2011-07-28</th>\n",
       "      <td>67</td>\n",
       "      <td>8735</td>\n",
       "    </tr>\n",
       "    <tr>\n",
       "      <th>2011-08-03</th>\n",
       "      <td>83</td>\n",
       "      <td>9840</td>\n",
       "    </tr>\n",
       "    <tr>\n",
       "      <th>2011-08-16</th>\n",
       "      <td>83</td>\n",
       "      <td>10246</td>\n",
       "    </tr>\n",
       "    <tr>\n",
       "      <th>2011-09-02</th>\n",
       "      <td>79</td>\n",
       "      <td>10240</td>\n",
       "    </tr>\n",
       "    <tr>\n",
       "      <th>2011-09-19</th>\n",
       "      <td>79</td>\n",
       "      <td>9914</td>\n",
       "    </tr>\n",
       "    <tr>\n",
       "      <th>2011-10-05</th>\n",
       "      <td>81</td>\n",
       "      <td>10288</td>\n",
       "    </tr>\n",
       "    <tr>\n",
       "      <th>2012-06-01</th>\n",
       "      <td>73</td>\n",
       "      <td>9445</td>\n",
       "    </tr>\n",
       "    <tr>\n",
       "      <th>2012-06-20</th>\n",
       "      <td>67</td>\n",
       "      <td>9088</td>\n",
       "    </tr>\n",
       "    <tr>\n",
       "      <th>2012-07-12</th>\n",
       "      <td>79</td>\n",
       "      <td>10169</td>\n",
       "    </tr>\n",
       "    <tr>\n",
       "      <th>2012-07-28</th>\n",
       "      <td>83</td>\n",
       "      <td>10412</td>\n",
       "    </tr>\n",
       "    <tr>\n",
       "      <th>2012-08-03</th>\n",
       "      <td>79</td>\n",
       "      <td>10065</td>\n",
       "    </tr>\n",
       "    <tr>\n",
       "      <th>2012-08-16</th>\n",
       "      <td>81</td>\n",
       "      <td>10262</td>\n",
       "    </tr>\n",
       "    <tr>\n",
       "      <th>2012-09-02</th>\n",
       "      <td>73</td>\n",
       "      <td>9625</td>\n",
       "    </tr>\n",
       "    <tr>\n",
       "      <th>2012-09-19</th>\n",
       "      <td>69</td>\n",
       "      <td>9412</td>\n",
       "    </tr>\n",
       "    <tr>\n",
       "      <th>2012-10-05</th>\n",
       "      <td>73</td>\n",
       "      <td>9840</td>\n",
       "    </tr>\n",
       "    <tr>\n",
       "      <th>2013-06-01</th>\n",
       "      <td>71</td>\n",
       "      <td>9293</td>\n",
       "    </tr>\n",
       "    <tr>\n",
       "      <th>2013-06-20</th>\n",
       "      <td>83</td>\n",
       "      <td>10214</td>\n",
       "    </tr>\n",
       "    <tr>\n",
       "      <th>2013-06-20</th>\n",
       "      <td>75</td>\n",
       "      <td>10034</td>\n",
       "    </tr>\n",
       "    <tr>\n",
       "      <th>2013-07-12</th>\n",
       "      <td>77</td>\n",
       "      <td>10215</td>\n",
       "    </tr>\n",
       "    <tr>\n",
       "      <th>2013-08-03</th>\n",
       "      <td>79</td>\n",
       "      <td>10312</td>\n",
       "    </tr>\n",
       "    <tr>\n",
       "      <th>2013-08-16</th>\n",
       "      <td>75</td>\n",
       "      <td>9719</td>\n",
       "    </tr>\n",
       "    <tr>\n",
       "      <th>2013-09-02</th>\n",
       "      <td>69</td>\n",
       "      <td>9370</td>\n",
       "    </tr>\n",
       "    <tr>\n",
       "      <th>2013-10-05</th>\n",
       "      <td>77</td>\n",
       "      <td>9976</td>\n",
       "    </tr>\n",
       "  </tbody>\n",
       "</table>\n",
       "</div>"
      ],
      "text/plain": [
       "            Temperature  Sales\n",
       "Date                          \n",
       "2010-06-01           71   9150\n",
       "2010-06-20           81  10084\n",
       "2010-07-12           71   9242\n",
       "2010-07-28           83  10361\n",
       "2010-08-03           65   8829\n",
       "2010-08-16           71   9253\n",
       "2010-08-29           85  10713\n",
       "2010-09-02           81  10689\n",
       "2010-09-19           67   8884\n",
       "2010-10-05           69   9155\n",
       "2011-06-01           81  10369\n",
       "2011-06-20           83  10149\n",
       "2011-06-20           83  10450\n",
       "2011-07-12           77   9628\n",
       "2011-07-28           67   8735\n",
       "2011-08-03           83   9840\n",
       "2011-08-16           83  10246\n",
       "2011-09-02           79  10240\n",
       "2011-09-19           79   9914\n",
       "2011-10-05           81  10288\n",
       "2012-06-01           73   9445\n",
       "2012-06-20           67   9088\n",
       "2012-07-12           79  10169\n",
       "2012-07-28           83  10412\n",
       "2012-08-03           79  10065\n",
       "2012-08-16           81  10262\n",
       "2012-09-02           73   9625\n",
       "2012-09-19           69   9412\n",
       "2012-10-05           73   9840\n",
       "2013-06-01           71   9293\n",
       "2013-06-20           83  10214\n",
       "2013-06-20           75  10034\n",
       "2013-07-12           77  10215\n",
       "2013-08-03           79  10312\n",
       "2013-08-16           75   9719\n",
       "2013-09-02           69   9370\n",
       "2013-10-05           77   9976"
      ]
     },
     "execution_count": 30,
     "metadata": {},
     "output_type": "execute_result"
    }
   ],
   "source": [
    "df"
   ]
  },
  {
   "cell_type": "markdown",
   "metadata": {},
   "source": [
    "#### Output Explained:\n",
    "\n",
    "The duplicates are as follows:\n",
    "\n",
    "Date | Temperature | Sales\n",
    "--- | --- | ---\n",
    "2011-06-20 | 83 | 10149\n",
    "2011-06-20 | 83 | 10450\n",
    "2013-06-20 | 83\t| 10214\n",
    "2013-06-20 | 75\t| 10034\n",
    "\n",
    "### Processing the Duplicates\n",
    "\n",
    "We have to fix our duplicate _Date_ problem before proceeding any further. Since both duplicates occur in June across 2011 and 2013, let's take a look at the June entries from the other years - 2010 and 2012 where data entry was done correctly.\n",
    "\n",
    "As we can see, June entries have 2 values - one for June 1st and another for June 20th. In order to retain the same convention for June entires across 2011 and 2013, all we have to do is figure out a way to get one entry for June 20th, 2011 and June 20th, 2013 each. There are 2 strategies that can be used -\n",
    "1. Drop one of the two duplicate rows. \n",
    "    - This is an easy fix and is used in situations where the data values for the duplicate indices aren't all that far apart. \n",
    "2. Replace the _Temperature_ and _Sales_ values with their respective means. \n",
    "    - This is a much more robust solution because it considers both the entries and takes an average. Thus one value isn't favored over another. \n",
    "\n",
    "**Note:** In an organizational setting, the first thing to do in such a situation would be to ask the data engineers (who extract, transform and load the data in preparation for analysis) or the stakeholders if we can get a hold of the correct data. Going back to the data source and finding what the actual data values are is one of the best solutions that can be employed in such cases. This is also why Exploratory Data Analysis(EDA) and Preprocessing are crucial prerequisites to Data Analysis because as the computer saying goes - \"garbage in, garbage out\". If we feed dirty data to our analysis, we're going to get rotten results!\n",
    "\n",
    "> Since the data values aren't all that far apart, we're going to drop the second duplicate row and keep the first by using the `drop_duplicates()` method. "
   ]
  },
  {
   "cell_type": "markdown",
   "metadata": {},
   "source": [
    "### 2. Convert the DataFrame to a Series.\n",
    "\n",
    "Since we're only interested in observing _Sales_ over time and not the _Temperature_, we can convert our data to a Series containing:\n",
    "- data values of the column we want to plot against time - in our case, _Sales_\n",
    "- indexed by the _Date_ values\n",
    "\n",
    "**Note:** This step is not necessary and a time series can be plotted using our DataFrame as well. "
   ]
  },
  {
   "cell_type": "code",
   "execution_count": 34,
   "metadata": {},
   "outputs": [],
   "source": [
    "ts = df['Sales']"
   ]
  },
  {
   "cell_type": "code",
   "execution_count": 78,
   "metadata": {},
   "outputs": [
    {
     "data": {
      "text/plain": [
       "Date\n",
       "2010-06-01     9150\n",
       "2010-06-20    10084\n",
       "2010-07-12     9242\n",
       "2010-07-28    10361\n",
       "2010-08-03     8829\n",
       "2010-08-16     9253\n",
       "2010-08-29    10713\n",
       "2010-09-02    10689\n",
       "2010-09-19     8884\n",
       "2010-10-05     9155\n",
       "2011-06-01    10369\n",
       "2011-06-20    10149\n",
       "2011-06-20    10450\n",
       "2011-07-12     9628\n",
       "2011-07-28     8735\n",
       "2011-08-03     9840\n",
       "2011-08-16    10246\n",
       "2011-09-02    10240\n",
       "2011-09-19     9914\n",
       "2011-10-05    10288\n",
       "2012-06-01     9445\n",
       "2012-06-20     9088\n",
       "2012-07-12    10169\n",
       "2012-07-28    10412\n",
       "2012-08-03    10065\n",
       "2012-08-16    10262\n",
       "2012-09-02     9625\n",
       "2012-09-19     9412\n",
       "2012-10-05     9840\n",
       "2013-06-01     9293\n",
       "2013-06-20    10214\n",
       "2013-06-20    10034\n",
       "2013-07-12    10215\n",
       "2013-08-03    10312\n",
       "2013-08-16     9719\n",
       "2013-09-02     9370\n",
       "2013-10-05     9976\n",
       "Name: Sales, dtype: int64"
      ]
     },
     "execution_count": 78,
     "metadata": {},
     "output_type": "execute_result"
    }
   ],
   "source": [
    "ts"
   ]
  },
  {
   "cell_type": "markdown",
   "metadata": {},
   "source": [
    "#### Output explained:\n",
    "\n",
    "The Series now contains the sales values indexed by the _Date_. Notice that instead of the column being called _Sales_ at the top, the entire Series is called _Sales_ (mentioned at the bottom). "
   ]
  },
  {
   "cell_type": "code",
   "execution_count": 80,
   "metadata": {},
   "outputs": [
    {
     "data": {
      "text/plain": [
       "Date\n",
       "2010-06-01     9617.000000\n",
       "2010-07-01     9801.500000\n",
       "2010-08-01     9598.333333\n",
       "2010-09-01     9786.500000\n",
       "2010-10-01     9155.000000\n",
       "2010-11-01             NaN\n",
       "2010-12-01             NaN\n",
       "2011-01-01             NaN\n",
       "2011-02-01             NaN\n",
       "2011-03-01             NaN\n",
       "2011-04-01             NaN\n",
       "2011-05-01             NaN\n",
       "2011-06-01    10322.666667\n",
       "2011-07-01     9181.500000\n",
       "2011-08-01    10043.000000\n",
       "2011-09-01    10077.000000\n",
       "2011-10-01    10288.000000\n",
       "2011-11-01             NaN\n",
       "2011-12-01             NaN\n",
       "2012-01-01             NaN\n",
       "2012-02-01             NaN\n",
       "2012-03-01             NaN\n",
       "2012-04-01             NaN\n",
       "2012-05-01             NaN\n",
       "2012-06-01     9266.500000\n",
       "2012-07-01    10290.500000\n",
       "2012-08-01    10163.500000\n",
       "2012-09-01     9518.500000\n",
       "2012-10-01     9840.000000\n",
       "2012-11-01             NaN\n",
       "2012-12-01             NaN\n",
       "2013-01-01             NaN\n",
       "2013-02-01             NaN\n",
       "2013-03-01             NaN\n",
       "2013-04-01             NaN\n",
       "2013-05-01             NaN\n",
       "2013-06-01     9847.000000\n",
       "2013-07-01    10215.000000\n",
       "2013-08-01    10015.500000\n",
       "2013-09-01     9370.000000\n",
       "2013-10-01     9976.000000\n",
       "Freq: MS, Name: Sales, dtype: float64"
      ]
     },
     "execution_count": 80,
     "metadata": {},
     "output_type": "execute_result"
    }
   ],
   "source": [
    "y = ts.resample('MS').mean()\n",
    "y"
   ]
  },
  {
   "cell_type": "code",
   "execution_count": 81,
   "metadata": {},
   "outputs": [
    {
     "data": {
      "text/plain": [
       "[<matplotlib.lines.Line2D at 0x1130d1518>]"
      ]
     },
     "execution_count": 81,
     "metadata": {},
     "output_type": "execute_result"
    },
    {
     "data": {
      "image/png": "[encoded data removed]",
      "text/plain": [
       "<Figure size 432x288 with 1 Axes>"
      ]
     },
     "metadata": {
      "needs_background": "light"
     },
     "output_type": "display_data"
    }
   ],
   "source": [
    "plt.plot(y)"
   ]
  },
  {
   "cell_type": "code",
   "execution_count": null,
   "metadata": {},
   "outputs": [],
   "source": []
  }
 ],
 "metadata": {
  "kernelspec": {
   "display_name": "Python 3",
   "language": "python",
   "name": "python3"
  },
  "language_info": {
   "codemirror_mode": {
    "name": "ipython",
    "version": 3
   },
   "file_extension": ".py",
   "mimetype": "text/x-python",
   "name": "python",
   "nbconvert_exporter": "python",
   "pygments_lexer": "ipython3",
   "version": "3.7.0"
  }
 },
 "nbformat": 4,
 "nbformat_minor": 2
}
