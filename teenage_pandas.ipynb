{
 "cells": [
  {
   "cell_type": "markdown",
   "metadata": {},
   "source": [
    "# Teenage Pandas\n",
    "In this intermediate course on Pandas, we're going to continue analyzing our beer data. This is intentional so as to allow you to clearly see how we have increased the complexity in the data preprocessing and analysis here as compared to the baby_pandas course. "
   ]
  },
  {
   "cell_type": "markdown",
   "metadata": {},
   "source": [
    "## Getting Started\n",
    "Let's start with the basics.\n",
    "- Import statements\n",
    "- Loading the data into a Pandas DataFrame\n",
    "- Observing the first 5 values of the DataFrame\n",
    "- Observing the details of the DataFrame using the `info()` method."
   ]
  },
  {
   "cell_type": "code",
   "execution_count": 15,
   "metadata": {},
   "outputs": [],
   "source": [
    "import pandas as pd"
   ]
  },
  {
   "cell_type": "code",
   "execution_count": 16,
   "metadata": {},
   "outputs": [],
   "source": [
    "df = pd.read_csv('Updated Cans of Beer.csv')"
   ]
  },
  {
   "cell_type": "code",
   "execution_count": 17,
   "metadata": {},
   "outputs": [
    {
     "data": {
      "text/html": [
       "<div>\n",
       "<style scoped>\n",
       "    .dataframe tbody tr th:only-of-type {\n",
       "        vertical-align: middle;\n",
       "    }\n",
       "\n",
       "    .dataframe tbody tr th {\n",
       "        vertical-align: top;\n",
       "    }\n",
       "\n",
       "    .dataframe thead th {\n",
       "        text-align: right;\n",
       "    }\n",
       "</style>\n",
       "<table border=\"1\" class=\"dataframe\">\n",
       "  <thead>\n",
       "    <tr style=\"text-align: right;\">\n",
       "      <th></th>\n",
       "      <th>Date</th>\n",
       "      <th>Year</th>\n",
       "      <th>Temperature</th>\n",
       "      <th>Cans of beer sold</th>\n",
       "    </tr>\n",
       "  </thead>\n",
       "  <tbody>\n",
       "    <tr>\n",
       "      <th>0</th>\n",
       "      <td>1-Jun</td>\n",
       "      <td>2010</td>\n",
       "      <td>71</td>\n",
       "      <td>9150</td>\n",
       "    </tr>\n",
       "    <tr>\n",
       "      <th>1</th>\n",
       "      <td>20-Jun</td>\n",
       "      <td>2010</td>\n",
       "      <td>81</td>\n",
       "      <td>10084</td>\n",
       "    </tr>\n",
       "    <tr>\n",
       "      <th>2</th>\n",
       "      <td>12-Jul</td>\n",
       "      <td>2010</td>\n",
       "      <td>71</td>\n",
       "      <td>9242</td>\n",
       "    </tr>\n",
       "    <tr>\n",
       "      <th>3</th>\n",
       "      <td>28-Jul</td>\n",
       "      <td>2010</td>\n",
       "      <td>83</td>\n",
       "      <td>10361</td>\n",
       "    </tr>\n",
       "    <tr>\n",
       "      <th>4</th>\n",
       "      <td>3-Aug</td>\n",
       "      <td>2010</td>\n",
       "      <td>65</td>\n",
       "      <td>8829</td>\n",
       "    </tr>\n",
       "  </tbody>\n",
       "</table>\n",
       "</div>"
      ],
      "text/plain": [
       "     Date  Year  Temperature  Cans of beer sold\n",
       "0   1-Jun  2010           71               9150\n",
       "1  20-Jun  2010           81              10084\n",
       "2  12-Jul  2010           71               9242\n",
       "3  28-Jul  2010           83              10361\n",
       "4   3-Aug  2010           65               8829"
      ]
     },
     "execution_count": 17,
     "metadata": {},
     "output_type": "execute_result"
    }
   ],
   "source": [
    "df.head()"
   ]
  },
  {
   "cell_type": "code",
   "execution_count": 18,
   "metadata": {},
   "outputs": [
    {
     "name": "stdout",
     "output_type": "stream",
     "text": [
      "<class 'pandas.core.frame.DataFrame'>\n",
      "RangeIndex: 37 entries, 0 to 36\n",
      "Data columns (total 4 columns):\n",
      "Date                 37 non-null object\n",
      "Year                 37 non-null int64\n",
      "Temperature          37 non-null int64\n",
      "Cans of beer sold    37 non-null int64\n",
      "dtypes: int64(3), object(1)\n",
      "memory usage: 1.3+ KB\n"
     ]
    }
   ],
   "source": [
    "df.info()"
   ]
  },
  {
   "cell_type": "markdown",
   "metadata": {},
   "source": [
    "### Something's not right\n",
    "\n",
    "The updated CSV file was supposed to hold our manipulated DataFrame but on observing the output of the `info()` method, it looks just like our original DataFrame! \n",
    "\n",
    "What happened?\n",
    "\n",
    "> Even though _Year_ was type cast as a `category` in Pandas, there's nothing like a categorical datatype in CSV files. Therefore, on loading the CSV into Pandas, we lost the type casting that we had performed. This just goes to show why CSV files or even Excel spreadsheets are not a good choice when analysing data. Libraries like Pandas are so popular for a reason!\n",
    "\n",
    "Let's perform our _Year_ type casting once again. "
   ]
  },
  {
   "cell_type": "code",
   "execution_count": 19,
   "metadata": {},
   "outputs": [],
   "source": [
    "df['Year'] = df['Year'].astype('category')"
   ]
  },
  {
   "cell_type": "markdown",
   "metadata": {},
   "source": [
    "## Data Preprocessing\n",
    "We performed some interesting EDA in the previous course and even scratched the surface of Data Preprocessing when we converted _Year_ into a categorical variable. \n",
    "\n",
    "One column we didn't really look at is the _Date_ column which stores the month and day values in the form of an `object`. Python offers us a more suitable datatype to handle date and time variables, known as `datetime`. This offers a few advantages:\n",
    "- After type casting, we will be able to run methods specific to `datetime` objects on our column, thus giving us further insights. \n",
    "- We will, very easily, be able to plot a time series against this dataset to see how the sales of beer has been trending over time. \n",
    "\n",
    "Here's what we're going to do:\n",
    "\n",
    "**1. Join the _Year_ column to the _Date_ column, row-wise, so that we have a single column containing the day, month and year.**\n",
    "\n",
    "> For example, \n",
    "\n",
    "Date | Year | New Date\n",
    "--- | --- | ---\n",
    "1-Jun | 2010 | 1-Jun-2010\n",
    "20-Jun | 2010 | 20-Jun-2010\n",
    "\n",
    "Joining 2 columns in Pandas is as simple as putting a plus (+) sign between them! \n",
    "\n",
    "**Note**: This only works if both columns are of the same datatype therefore we first convert _Year_ into an `object` so that it matches the `object` datatype of _Date_ and then perform the addition (so to say) of both columns.\n",
    "\n",
    "**Also note**: The `astype()` method takes the argument `str` but on running the `info()` method, we observe that the datatype of _New Date_ has been type cast as `object.`"
   ]
  },
  {
   "cell_type": "code",
   "execution_count": 33,
   "metadata": {},
   "outputs": [],
   "source": [
    "df['New date'] = df['Date'] + df['Year'].astype(str)"
   ]
  },
  {
   "cell_type": "code",
   "execution_count": 30,
   "metadata": {},
   "outputs": [
    {
     "data": {
      "text/html": [
       "<div>\n",
       "<style scoped>\n",
       "    .dataframe tbody tr th:only-of-type {\n",
       "        vertical-align: middle;\n",
       "    }\n",
       "\n",
       "    .dataframe tbody tr th {\n",
       "        vertical-align: top;\n",
       "    }\n",
       "\n",
       "    .dataframe thead th {\n",
       "        text-align: right;\n",
       "    }\n",
       "</style>\n",
       "<table border=\"1\" class=\"dataframe\">\n",
       "  <thead>\n",
       "    <tr style=\"text-align: right;\">\n",
       "      <th></th>\n",
       "      <th>Date</th>\n",
       "      <th>Year</th>\n",
       "      <th>Temperature</th>\n",
       "      <th>Cans of beer sold</th>\n",
       "      <th>New date</th>\n",
       "    </tr>\n",
       "  </thead>\n",
       "  <tbody>\n",
       "    <tr>\n",
       "      <th>0</th>\n",
       "      <td>1-Jun</td>\n",
       "      <td>2010</td>\n",
       "      <td>71</td>\n",
       "      <td>9150</td>\n",
       "      <td>1-Jun2010</td>\n",
       "    </tr>\n",
       "    <tr>\n",
       "      <th>1</th>\n",
       "      <td>20-Jun</td>\n",
       "      <td>2010</td>\n",
       "      <td>81</td>\n",
       "      <td>10084</td>\n",
       "      <td>20-Jun2010</td>\n",
       "    </tr>\n",
       "    <tr>\n",
       "      <th>2</th>\n",
       "      <td>12-Jul</td>\n",
       "      <td>2010</td>\n",
       "      <td>71</td>\n",
       "      <td>9242</td>\n",
       "      <td>12-Jul2010</td>\n",
       "    </tr>\n",
       "    <tr>\n",
       "      <th>3</th>\n",
       "      <td>28-Jul</td>\n",
       "      <td>2010</td>\n",
       "      <td>83</td>\n",
       "      <td>10361</td>\n",
       "      <td>28-Jul2010</td>\n",
       "    </tr>\n",
       "    <tr>\n",
       "      <th>4</th>\n",
       "      <td>3-Aug</td>\n",
       "      <td>2010</td>\n",
       "      <td>65</td>\n",
       "      <td>8829</td>\n",
       "      <td>3-Aug2010</td>\n",
       "    </tr>\n",
       "  </tbody>\n",
       "</table>\n",
       "</div>"
      ],
      "text/plain": [
       "     Date  Year  Temperature  Cans of beer sold    New date\n",
       "0   1-Jun  2010           71               9150   1-Jun2010\n",
       "1  20-Jun  2010           81              10084  20-Jun2010\n",
       "2  12-Jul  2010           71               9242  12-Jul2010\n",
       "3  28-Jul  2010           83              10361  28-Jul2010\n",
       "4   3-Aug  2010           65               8829   3-Aug2010"
      ]
     },
     "execution_count": 30,
     "metadata": {},
     "output_type": "execute_result"
    }
   ],
   "source": [
    "df.head()"
   ]
  },
  {
   "cell_type": "code",
   "execution_count": 31,
   "metadata": {},
   "outputs": [
    {
     "name": "stdout",
     "output_type": "stream",
     "text": [
      "<class 'pandas.core.frame.DataFrame'>\n",
      "RangeIndex: 37 entries, 0 to 36\n",
      "Data columns (total 5 columns):\n",
      "Date                 37 non-null object\n",
      "Year                 37 non-null category\n",
      "Temperature          37 non-null int64\n",
      "Cans of beer sold    37 non-null int64\n",
      "New date             37 non-null object\n",
      "dtypes: category(1), int64(2), object(2)\n",
      "memory usage: 1.5+ KB\n"
     ]
    }
   ],
   "source": [
    "df.info()"
   ]
  },
  {
   "cell_type": "markdown",
   "metadata": {},
   "source": [
    "2. Type cast this column as `datetime`. \n",
    "3. Drop the columns that are not required anymore.  "
   ]
  },
  {
   "cell_type": "markdown",
   "metadata": {},
   "source": [
    "### Pandas Series\n",
    "Pandas offers a structure to hold one-dimensional data known as a Series. A Pandas Series can be thought of as a single column from an Excel spreadsheet, capable of holding data of any datatype (strings, integers, floats, datetimes, categorical values etc). \n",
    "\n",
    "Similar to a DataFrame, a Series can have a name as well as axis labels known as an index. (**Check in notebook**) \n",
    "\n",
    "> We can obtain multiple Series pertaining to each column in our DataFrame above. For example, if we were to extract the _Date_ column, it would be stored as a Pandas Series. We're going to see this in action really soon!\n",
    "\n",
    "### Once again, we're back to the same question... how do we access a particular column in the DataFrame?\n",
    "1. Using the square bracket notation - we've already seen this in the previous course. \n",
    "2. Using the dot notation - typing the DataFrame name followed by a dot followed by the column name. This is the one we're about to use. "
   ]
  }
 ],
 "metadata": {
  "kernelspec": {
   "display_name": "Python 3",
   "language": "python",
   "name": "python3"
  },
  "language_info": {
   "codemirror_mode": {
    "name": "ipython",
    "version": 3
   },
   "file_extension": ".py",
   "mimetype": "text/x-python",
   "name": "python",
   "nbconvert_exporter": "python",
   "pygments_lexer": "ipython3",
   "version": "3.7.0"
  }
 },
 "nbformat": 4,
 "nbformat_minor": 2
}
